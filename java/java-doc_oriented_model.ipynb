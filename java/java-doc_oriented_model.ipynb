{
 "cells": [
  {
   "cell_type": "markdown",
   "id": "immediate-lexington",
   "metadata": {},
   "source": [
    "# Document-Oriented Data Modeling\n",
    "\n",
    "*Last updated: September 30, 2021*\n",
    "\n",
    "This notebook shares how Aerospike facilitates working with document-oriented data, covering the following topics:\n",
    "\n",
    "1. Finding the balance between size and application performance\n",
    "2. Tradeoffs of denormalized and normalized data modeling\n",
    "3. Modeling 1-to-many relationships\n",
    "4. Modeling 1-to-1 relationships\n",
    "5. Modeling complex relationships\n",
    "\n",
    "The above topics showcase the dos and donts of modeling in Aerospike and combine both product features and realities of data modeling into a collection of best practices.\n",
    "\n",
    "This [Jupyter Notebook](https://jupyter-notebook.readthedocs.io/en/stable/notebook.html) requires the Aerospike Database running locally with Java kernel and Aerospike Java Client. To create a Docker container that satisfies the requirements and holds a copy of these notebooks, visit the [Aerospike Notebooks Repo](https://github.com/aerospike-examples/interactive-notebooks)."
   ]
  },
  {
   "cell_type": "markdown",
   "id": "circular-attribute",
   "metadata": {},
   "source": [
    "# Prerequisites\n",
    "* [Intro to Data Modeling](./java-intro_to_data_modeling.ipynb)\n",
    "* [Modeling Using Lists](./java-modeling_using_lists.ipynb)\n",
    "* [Modeling Using Maps](./java-modeling_using_maps.ipynb)\n"
   ]
  },
  {
   "cell_type": "markdown",
   "id": "lonely-liberia",
   "metadata": {},
   "source": [
    "# Whether to normalize or denormalize the data...\n",
    "\n",
    "The grand question when working with semi-structured or Document-Oriented Data is when to efficiently store just one copy of data (Normalize the data) or store more copies of data as required by the use cases as subdocuments (Denormalize). TL:DR, it’s a balance. The ultimate goal of this balancing act is to ensure that your Aerospike cluster is responsive to more requests, and is not tied up in excessively I/O-, CPU-, or RAM/Storage-intensive operations. Aerospike cluster configurations afford significant flexibility, but ultimately the best practice is to create data for which: \n",
    "\n",
    "* Reads – the application has sufficiently fast access to the data needed for the app\n",
    "* Writes – having space and availability to write app data without running into Aerospike [known limitations](https://docs.aerospike.com/docs/guide/limitations.html).\n",
    "\n",
    "Ultimately this depends on what data is needed for efficient transaction processing using Aerospike’s record-atomic transactions using the operate API method. By the nature of applications, the higher frequency of a type of transaction, the stronger the need for atomicity. \n"
   ]
  },
  {
   "cell_type": "markdown",
   "id": "otherwise-saver",
   "metadata": {},
   "source": [
    "# Finding the Balance between Size and Application Performance \n",
    "\n",
    "Simply put, larger records means larger reads from storage. In turn, larger reads from storage generally means a database will take at least as much time to access a record of data as a smaller record. At some point that is different for every database, application, and record type, too large of a record results in inadequate application performance. \n",
    "\n",
    "Aerospike has a large sweet spot for real time performance and Aerospike records technically have no size limit if stored in memory, starting with version 4.5.3.4. However, memory is finite, and therefore most records are written to a storage device. The most common range of record sizes for real time performance at scale is from 1 Byte to 128 KBs. At that size and using Aerospike default configuration:\n",
    "Performance times are more directly related to storage medium than processor or transport. (This is my understanding. Please vet if this is a safe claim to make.) \n",
    "Due to the current speed of network I/O, smaller sized records are only marginally faster.\n",
    "\n",
    "**Note:** Customers routinely create and use records that are larger than the 128-KB range. The maximum size for data stored on a device is 8 MiB. \n",
    "\n",
    "Best practices are:\n",
    "1. Work with the Aerospike team to help you tune for performance for MB-sized records or extreme read/write workloads. You may also seek advice on Aerospike’s [Tuning Forum](https://discuss.aerospike.com/c/operations/tuning/23). \n",
    "2. Verify the server and client versions support necessary features.\n",
    "3. Test Aerospike cluster settings in development prior to production deployment to ensure hardware and software behave as-expected under the new configuration."
   ]
  },
  {
   "cell_type": "markdown",
   "id": "overhead-street",
   "metadata": {},
   "source": [
    "## Types of Reads in Aerospike\n",
    "\n",
    "The techniques to read a record are:\n",
    "* Record read – A 1-record read.\n",
    "* Batch record read – A multiple record read.\n",
    "* Scan, a primary index read of all records in a Namespace\n",
    "* Secondary index query – A scan of a subset of records, best used when the subset is 1/100 of the overall namespace. Must be explicitly created. \n",
    "\n",
    "The consequence of not embedding appropriate references is steeper than an RDBMS.\n",
    "Best practices for reads are therefore to:\n",
    "* Embed references to related records in models. Create secondary indexes. \n",
    "* Embed Aerospike expressions into reads to select data from within a record. \n",
    "\n"
   ]
  },
  {
   "cell_type": "markdown",
   "id": "centered-conjunction",
   "metadata": {},
   "source": [
    "# Tradeoffs of Denormalized/Normalized Data Modeling\n",
    "\n",
    "The following are inherent tradeoffs made by denormalizing or normalizing data in an app’s data model.\n"
   ]
  },
  {
   "cell_type": "markdown",
   "id": "fourth-underground",
   "metadata": {},
   "source": [
    "## Trade Offs of Denormalization\n",
    "\n",
    "Denormalizing data is a tradeoff where the application writes data in multiple places at creation/modification time for more efficient transaction processing. \n",
    "\n",
    "Nesting data as a subdocument helps to reduce drive I/O, CPU and RAM overhead. The subdocument can be part of a single-record transaction using the operate method. If some of the data for a transaction were located in a separate record, that would mandate additional complexity resulting from the loss of atomicity and the addition of multiple record locks and reads of data from media. For efficiency, Aerospike serializes Map data using [Message Pack](https://msgpack.org/index.html). \n"
   ]
  },
  {
   "cell_type": "markdown",
   "id": "fiscal-routine",
   "metadata": {},
   "source": [
    "## Trade Offs of Normalization\n",
    "\n",
    "Normalizing data adds complexity to data queries and updates, and it sacrifices some performance to improve storage efficiency.  The main reasons to normalize data and incur the additional transactional complexity are:\n",
    "\n",
    "1. To make efficient use of storage media. \n",
    "2. Store more important or more frequently-used data on faster media. \n",
    "3. Prevent relatively unused data from slowing down transaction performance through bloating the record.  \n",
    "\n",
    "Normalize data that is more static (fewer writes) and doesn’t require high volumes of reads. \n",
    "\n",
    "\n",
    "The following are situations and examples that suggest when to denormalize and normalize data. \n"
   ]
  },
  {
   "cell_type": "markdown",
   "id": "ahead-steel",
   "metadata": {},
   "source": [
    "## Denormalization for Performance\n",
    "Store data together if it is read together. For example, storing a company’s address in the same record as company name:\n",
    "\n",
    "```\n",
    "company: {\n",
    "\t\"name\": “Aerospike, Inc\",\n",
    "\t\"address”: {\n",
    "\t\t\t\"street\": \"2525 E Charleston Road\"\n",
    "\t\t\t\"city\": “Mountain View\"\n",
    "\t\t\t\"state\": “CA\"\n",
    "\t\t\t\"zip\": \"94043\"\n",
    "\t\t}\n",
    "}\n",
    "```\n",
    "\n",
    "Despite being a many to many relationship, companies can have multiple addresses, and each address can be used by multiple companies, this information is regularly used together.\n"
   ]
  },
  {
   "cell_type": "markdown",
   "id": "median-bradley",
   "metadata": {},
   "source": [
    "## Denormalization for Space Considerations\n",
    "\n",
    "Consider the task of modeling an application with millions or billions of tiny (~80-byte) objects when the chief concern is efficient storage and not performance. Since each Aerospike record has 64-byte of overhead in the index, by architecting a data model consisting of many tiny application objects each as its own record, the architect would be manufacturing a capacity concern. Instead, try the following best practices:\n",
    "\n",
    "* Modeling: Consolidate into Maps\n",
    "* Aerospike configuration: Use All-Flash\n"
   ]
  },
  {
   "cell_type": "markdown",
   "id": "computational-taxation",
   "metadata": {},
   "source": [
    "### Consolidate into A Map with Object IDs as Mapkeys\n",
    "\n",
    "Consolidate objects into one map with object IDs as mapkeys to reduce I/O and index memory. The 64-byte overhead in the index is small relative to 600-byte or greater record size. Potentially group these mapkeys in records whose key pattern should be modeled after time duration (hour or day). \n"
   ]
  },
  {
   "cell_type": "markdown",
   "id": "innocent-alexander",
   "metadata": {},
   "source": [
    "### Use All-Flash\n",
    "\n",
    "When an Aerospike Namespace is configured to use All-Flash, Aerospike stores both data and index on SSD. This configuration consumes little memory, significantly less than when the index is stored in memory. The trade offs are minor: \n",
    "Aerospike using All-Flash costs an extra read from SSD to access the record’s metadata from the index.\n",
    "Writes have higher I/O cost than other configurations, because index is written to a slower medium. \n"
   ]
  },
  {
   "cell_type": "markdown",
   "id": "shaped-material",
   "metadata": {},
   "source": [
    "# Modeling 1:Many Relationships\n",
    "\n",
    "When modeling a 1:many relationship, common techniques are:\n",
    "* Denormalization: Embedding a Document Pattern inside another document. \n",
    "* Normalization: Embedding explicit reference to other records.\n"
   ]
  },
  {
   "cell_type": "markdown",
   "id": "entertaining-attachment",
   "metadata": {},
   "source": [
    "## Denormalized 1:Many Modeling: Embedding a Document Pattern\n",
    "\n",
    "This is appropriate when data records are fully contained in another record, for example, a standard 1:many relationship, such as one user with multiple credit cards, as modeled in [Modeling Using Maps](./java-modeling_using_maps.ipynb) as a list of credit card Maps. \n",
    "\n",
    "To support this model, it can be necessary to access the embedded document directly. If the model needs to access cards independently of the user-record where it is embedded, here are common techniques:\n",
    "1. Create a universally unique ID (UUID) for each card:\n",
    "   * Hash immutable card details into a new UUID\n",
    "   * Use an existing app unique ID\n",
    "2. Create a way to lookup cards within the user record by UUID:\n",
    "   * Create a bin storing a List of UUIDs in the record \n",
    "   * Manage your own index of UUIDs.\n",
    "\n",
    "To access a card, create a secondary index on the list, or scan the index using [expressions](https://docs.aerospike.com/docs/guide/expressions/). A secondary index is faster, but consumes more storage media. Expressions are slower than scanning a secondary index and use more CPU overhead."
   ]
  },
  {
   "cell_type": "markdown",
   "id": "wrapped-general",
   "metadata": {},
   "source": [
    "### Creating an Index to Access Embedded Elements \n",
    "\n",
    "**Example:** The application needs to check if a credit card appears in more than one user account. \n",
    "\n",
    "```\n",
    "user: {\n",
    "\tcards: [\n",
    "\t\t{\n",
    "\t\t\t“cvv”: 111\n",
    "\t\t\t“expires”: 202201\n",
    "\t\t\t“last_six”: 511111\n",
    "\t\t\t“zip”: 95008\n",
    "\t\t}\n",
    "\t\t{\n",
    "\t\t\t“cvv”: 222\n",
    "\t\t\t“expires”: 202202\n",
    "\t\t\t“last_six”: 522222\n",
    "\t\t\t“zip”: 95008\n",
    "\t\t}\n",
    "\t\t{\n",
    "\t\t\t“cvv”: 333\n",
    "\t\t\t“expires”: 202203\n",
    "\t\t\t“last_six”: 533333\n",
    "\t\t\t“zip”: 95008\n",
    "\t\t}\n",
    "\t\t]\n",
    "\t}\n",
    "cardhashes: [\n",
    "\t\t“e993d2dc-b060-46e2-a9e2-73b7dfb63dd0”\n",
    "\t\t“0fbcb8eb-8e22-47b6-ba76-b6ae2f2d00ae”\n",
    "\t\t“d5d68ddf-6476-497a-af92-266b32072905”\n",
    "\t\t]\n",
    "```\n",
    "\n",
    "**Model:**\n",
    "* Carduser is an in-memory Namespace with a 1:1 relationship to records in the user set. \n",
    "* Key: A canonical form of the card data: \n",
    "```\n",
    "CVV | Expires | Last 6 Digits | Zip – “219|202210|518923|95008”\n",
    "```\n",
    "* Value: The digest of the user record.\n",
    "\n",
    "**Operations:**\n",
    "* Create – Use write policy CREATE_ONLY to create this after successful card write to a user record.\n",
    "* Exists – A metadata-only check. If the key exists, it exists.\n",
    "* Read – Returns the user record digest for subsequent fetching.\n",
    "* Delete – TTL set to card expiry, or explicitly by durable deletes.\n",
    "\n",
    "**Advantage:** A single read is faster than scanning all records in an index."
   ]
  },
  {
   "cell_type": "markdown",
   "id": "stupid-grade",
   "metadata": {},
   "source": [
    "## Normalized 1:Many Modeling: Embedding Explicit References\n",
    "When building a normalized one to many model, it is necessary to embed identifiers for related records. Such a relationship cannot be implied, as will be modeled discussing 1:1 relationships, below."
   ]
  },
  {
   "cell_type": "markdown",
   "id": "humanitarian-throat",
   "metadata": {},
   "source": [
    "### Creating Embedded References to other Records \n",
    "\n",
    "**Example:** Modeling a user and his/her mobile devices, where user details need to be accessed less frequently than mobile device details \n",
    "\n",
    "```\n",
    "Record: (ns1-ssd, user, uid1991)\n",
    "\t{\n",
    "\t\t“devices”: [\n",
    "“ZSKF3B9HCLKJ”\n",
    "]\n",
    "\t\t“address”: {\n",
    "\t\t\t\t“zip”: 94043\n",
    "\t\t\t}\n",
    "\t\t“first_name”: “Thomas”\n",
    "\t\t“last_name”: “Anderson”\n",
    "\t}\n",
    "\n",
    "\n",
    "Record: (ns1-ssd, device, ZSKF3B9HCLKJ)\n",
    "\t{\n",
    "\t\t“name”: “Donkey Phone”\n",
    "\t\t“model_name”: “iPhone X”\n",
    "\t\t“model_num”: “MQQKK2NN/B”\n",
    "\t\t“serial_num”: “ZSKF3B9HCLKJ”\n",
    "\t\t“user”: “uid1991”\n",
    "\t}\n",
    "```\n",
    "\n",
    "**Model:**\n",
    "* Namespace: All data is stored on ssd.\n",
    "* Sets: Application objects user and device are stored as sets of records. \n",
    "* Keys: \n",
    "   * Application UserID is used to uniquely identify a user. \n",
    "   * Device Serial Number is used to uniquely identify a device.  \n",
    "* References\n",
    "   * Device.user identifies the user who owns the device.\n",
    "   * User.devices contains the list of devices owned by the user.\n",
    "\n",
    "**Advantage:** Device updates do not need to access the user record, which largely contains identifying information. "
   ]
  },
  {
   "cell_type": "markdown",
   "id": "corrected-grove",
   "metadata": {},
   "source": [
    "# Modeling 1:1 Relationships\n",
    "Denormalized modeling of 1:1 relationships is embedding objects into one another. Normalized modeling of 1:1 relationships uses separate objects instead of embedding one in another."
   ]
  },
  {
   "cell_type": "markdown",
   "id": "clean-chinese",
   "metadata": {},
   "source": [
    "## Implied References: Modeling a 1:1 Relationship By Varying One: Namespace/Set/Key\n",
    "As described in the [Introduction to Data Modeling tutorial](./java-intro_to_data_modeling.ipynb), the Aerospike data model elements Namespace, Set, and Key, together, uniquely identify a record. Each provides specifies a type of control over data –\n",
    "* Namespace – Server-configured link between data and hardware.\n",
    "* Set – Optional classification to easily manage multiple records of data together. \n",
    "* Key – A user-defined name for a record of data.\n",
    "\n",
    "A powerful way to leverage Aerospike’s architecture is to align a 1:1 relationship between two Aerospike records by aligning two Record identifiers and changing the third. For example, storing one record in one Namespace and another in another Namespace, while using the same Key and Set name. This is similar to using an [Implied Foreign Key](https://docs.oracle.com/en/database/oracle/sql-developer-web/19.1/sdweb/implied-foreign-keys-dialog.html) configuration in a relational database. "
   ]
  },
  {
   "cell_type": "markdown",
   "id": "cleared-pocket",
   "metadata": {},
   "source": [
    "### Examples of Implied References\n",
    "Common examples where implied references are used are as follows:\n",
    "* Fragmenting the record by frequency of data usage.\n",
    "* Accommodating dimensions of data growth or rotation by discrete ranges.\n"
   ]
  },
  {
   "cell_type": "markdown",
   "id": "intermediate-minimum",
   "metadata": {},
   "source": [
    "#### Fragmenting by Frequency of Usage\n",
    "When an application record contains data that is read, written, or deleted at significantly different frequencies, a common technique is to place the frequently used data in one Aerospike Record, and the rest in a second Record accessible through implied reference.\n"
   ]
  },
  {
   "cell_type": "markdown",
   "id": "restricted-lighter",
   "metadata": {},
   "source": [
    "#### Fragmenting a Record and Accessing by Implied Reference\n",
    "\n",
    "**Example:** Tracking data consumption for a mobile phone.\n",
    "\n",
    "```\n",
    "record: (ns1-ssd, device, ZSKF38B9HCLKJ)\n",
    "\n",
    "device: \n",
    "\t{\n",
    "\t“name”: “Donkey Phone”\n",
    "\t“model_name”: “iPhone X”\n",
    "\t“model_num”: “QQKK2NN/B”\n",
    "\t“serial_num”: “ZSKF3B9HCLKJ”\n",
    "\t“user”: “uid1991”\n",
    "}\n",
    "\n",
    "record: (ns1-memory, device, ZSKF38B9HCLKJ)\n",
    "\n",
    "bytes: 6442450216\n",
    "```\n",
    "\n",
    "**Model:**\n",
    "* Most phone information is static. Store it on SSD.\n",
    "* Data consumption in bytes (an 8-byte integer) changes frequently. Store it in-memory.\n",
    "* Set: ‘device’, distinguishing device data from user data, etc.. \n",
    "* Key: ‘ZSKF38B9HCLKJ’, the serial number of the device.\n",
    "* Namespaces:\n",
    "   * ‘ns1-ssd’: a Namespace storing data on SSD media.\n",
    "   * ‘ns1-memory’: a Namespace storing data in memory.  \n",
    "\n",
    "**Advantage:** Because the Set and Key are identical, the records share the same Record Digest, though being stored on different media. This configuration allows for intuitive access from the application, and results in much lower overhead than reading the full record, incrementing, and writing the full record."
   ]
  },
  {
   "cell_type": "markdown",
   "id": "transsexual-monthly",
   "metadata": {},
   "source": [
    "#### Storing Data by Discrete Data Range\n",
    "For data that grows in discrete ranges, add the data to discrete records in the same Set. \n",
    "\n",
    "**Example:** Storing IoT sensor data by date.\n",
    "\n",
    "```\n",
    "Record: (ns1-ssd, sensor, 1|9876) \n",
    "[ \n",
    "  [1, 2345]\n",
    "  [2, 2415]\n",
    "  [3, 2570]\n",
    "...\n",
    "  [1440, 2313]\n",
    "]\n",
    "\n",
    "Record: (ns1-ssd, sensor, 2|9876) \n",
    "[ \n",
    "  [1, 2419]\n",
    "  [2, 2512]\n",
    "  [3, 2590]\n",
    "...\n",
    "  [1440, 2402]\n",
    "]\n",
    "\n",
    "Record: (ns1-ssd, sensor, 99|9876) \n",
    "[ \n",
    "  [1, 3176]\n",
    "  [2, 3241]\n",
    "  [3, 3371]\n",
    "...\n",
    "  [1440, 3213]\n",
    "]\n",
    "\n",
    "Record: (ns1-ssd, sensor, 100|9876)        Today. \n",
    "[ \n",
    "  [1, 3205]\n",
    "  [2, 3295]\n",
    "  [3, 3361]\n",
    "]\n",
    "```\n",
    "\n",
    "\n",
    "**Model:**\n",
    "* Sensor data is written every minute for a year, as a list of tuples `[epoch-minute, temperature]`. Records are written one day, then remain immutable.\n",
    "* Key: `day-since-epoch|sensor-id`\n",
    "\n",
    "**Operations:**\n",
    "* Create – Use append to add new sensor readings.\n",
    "* Read – Retrieve data using batch reads over the date key ranges.\n",
    "* Delete – TTL set to data rotation period, or explicitly by durable deletes.\n",
    "\n",
    "**Advantage:** Clean data access and rotation. No need to index, because implied references indicate data location. Getting a year’s worth of data is just a batch read of 365 records. Multiple sensors for a given day is just as easy. Batch reads are tolerant of missing keys."
   ]
  },
  {
   "cell_type": "markdown",
   "id": "banned-colony",
   "metadata": {},
   "source": [
    "# Modeling Complex Relationships\n",
    "\n",
    "The more complex the relationships, the more likely embedding references to other records is constructive.\n"
   ]
  },
  {
   "cell_type": "markdown",
   "id": "excess-atlantic",
   "metadata": {},
   "source": [
    "## Multiple embedded references to records  \n",
    "\n",
    "**Example:** Reddit posts and karma\n",
    "\n",
    "```\n",
    "User Record: (ns1-ssd, user, donkongster)\n",
    "user:\n",
    "{\n",
    "“name”: “Don Kekong”,\n",
    "“since”: 20181012,\n",
    "“karma”: 72,\n",
    "“trophies”: {“t1”, “t8”, “t19”},\n",
    "“posts”: {“17-891”, “38-767”, “51-209”},    \t\t// Reference to UUID of Post\n",
    "“comments”: [“13-191”, “98-209”, :”77-101”},\t// Ref to UUID of Comment \n",
    "“upvotes”: [“21-876”, “90-898”},\n",
    "“downvotes”: {‘81-023”}\n",
    "}\n",
    "\n",
    "Comment Record: (ns1-ssd, comments, 90-209)\n",
    "comment:\n",
    "{\n",
    "“txt”: “🤣🤣 *”,\n",
    "“post”: “17-891”,\t\t\t\t\t\t// Ref to UUID of Post\n",
    "“user”: “donkongster”,\t\t\t\t\t// Ref to UUID of User\n",
    "“posted”: 288034,\n",
    "“votes”: 5\n",
    "}\n",
    "\n",
    "Post Record: (ns1-ssd, post, 17-891)\n",
    "post:\n",
    "{\n",
    "“title”: “Hilarity*”,\n",
    "“posted”: 288000,\n",
    "“uri”: “https://goo.gl/foo012”,\n",
    "“user”: “donkongster”,\t\t\t\t\t// Ref to UUID of User\n",
    "“votes”: 17,\n",
    "“comment_count”: 3,\n",
    "“comments”: [“60-993”, “98-209”, “55-123”, “21-235”],\t// Ref to UUID of Comment\n",
    "“comment_tree: [\n",
    "[“60-993, [“98-209”, “55-123”], “21-235”]\n",
    "],\n",
    "“body”: “”\n",
    "}\n",
    "```\n",
    "\n",
    "**Model**:\n",
    "* Posts to Comments: 1:many\n",
    "* Users to Comments: 1:many\n",
    "* Users to Posts: 1:many\n",
    "* Assume no complex joins and separate HTTP requests per page, which can resolve independently.\n",
    "\n",
    "**Operations**:\n",
    "   * Page is a batch read loading post and comments\n",
    "      * A Post Page can be loaded simply:\n",
    "         * Load the Post record\n",
    "         * Batch read the comments records \n",
    "      * A Comments Page is a batch read of comments UUIDs. Lists support pagination.\n",
    "      * A User’s Posts Page is a batch read of all of the post UUIDs from the User record.\n",
    "   * Upvote/downvote a comment is two updates:\n",
    "   * Update the karma and upvote or downvote in the User record.\n",
    "   * Increment the vote counter in the Comment record. \n",
    "   * New posts, comments, etc. would be prepended and not appended, so newest content is first.\n",
    "\n",
    "**Advantage**: Relevant content references are always available, when needed. Primary content for page loads (e.g. a post) will load faster than secondary content (e.g., comments). All content loads within visitor expectations."
   ]
  },
  {
   "cell_type": "markdown",
   "id": "interracial-assumption",
   "metadata": {},
   "source": [
    "# Takeaways\n",
    "\n",
    "Aerospike Database empowers both normalized and denormalized modeling use cases common to working with document-oriented data models. "
   ]
  },
  {
   "cell_type": "markdown",
   "id": "other-demographic",
   "metadata": {},
   "source": [
    "## What's Next?"
   ]
  },
  {
   "cell_type": "markdown",
   "id": "closed-blend",
   "metadata": {},
   "source": [
    "### Next Steps\n",
    "\n",
    "Have questions? Don't hesitate to post about modeling using maps on [Aerospike's Discussion Forums](https://discuss.aerospike.com/c/how-developers-are-using-aerospike/data-modeling/143).\n",
    "\n",
    "Want to check out other Java notebooks?\n",
    "1. [Hello, World](./hello_world.ipynb)\n",
    "2. [Aerospike Query and UDF](./query_udf.ipynb)\n",
    "3. [Simple Put Get Example](./SimplePutGetExample.ipynb)\n",
    "4. [Expressions](./expressions.ipynb)\n",
    "5. [Advanced Collection Data Types](./java-advanced_collection_data_types.ipynb)\n",
    "\n",
    "Are you running this from Binder? [Download the Aerospike Notebook Repo](https://github.com/aerospike-examples/interactive-notebooks) and work with Aerospike Database and Jupyter locally using a Docker container."
   ]
  },
  {
   "cell_type": "markdown",
   "id": "through-integer",
   "metadata": {},
   "source": [
    "## Additional Resources\n",
    "\n",
    "* Want to get started building with Aerospike? [Try now](https://aerospike.com/lp/try-now/).\n",
    "* Ready to learn about developing with Aerospike? Go to the [Developer Hub](https://developer.aerospike.com).\n",
    "* How robust is the Aerospike Database? Browse the [Aerospike Database Architecture](https://www.aerospike.com/docs/architecture/index.html).\n",
    "* Want to get started with Java? [Download](https://www.aerospike.com/download/client/) or [install](https://github.com/aerospike/aerospike-client-java) the Aerospike Java Client. \n",
    "* How robust is the Aerospike Database? Browse the [Aerospike Database Architecture](https://www.aerospike.com/docs/architecture/index.html)."
   ]
  }
 ],
 "metadata": {
  "kernelspec": {
   "display_name": "Java",
   "language": "java",
   "name": "java"
  },
  "language_info": {
   "codemirror_mode": "java",
   "file_extension": ".jshell",
   "mimetype": "text/x-java-source",
   "name": "Java",
   "pygments_lexer": "java",
   "version": "11.0.8+10-LTS"
  },
  "toc": {
   "base_numbering": 1,
   "nav_menu": {},
   "number_sections": true,
   "sideBar": true,
   "skip_h1_title": false,
   "title_cell": "Table of Contents",
   "title_sidebar": "Contents",
   "toc_cell": false,
   "toc_position": {},
   "toc_section_display": true,
   "toc_window_display": true
  }
 },
 "nbformat": 4,
 "nbformat_minor": 5
}
