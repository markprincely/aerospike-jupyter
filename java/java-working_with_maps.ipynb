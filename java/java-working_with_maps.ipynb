{
 "cells": [
  {
   "cell_type": "markdown",
   "metadata": {},
   "source": [
    "# Aerospike Java Client – Reading and Updating Maps\n",
    "\n",
    "This notebook demonstrates Java Aerospike CRUD operations (Create, Read, Update, Delete) for maps of data, focusing on server-side **read** and **update** operations. \n",
    "\n",
    "Aerospike stores records by association with a **key**. Maps contain key:value pairs. This notebook makes use of the word **mapkey** to distinguish from a record **key**. \n",
    "\n",
    "This [Jupyter Notebook](https://jupyter-notebook.readthedocs.io/en/stable/examples/Notebook/examples_index.html) requires the Aerospike database running locally with Java kernel and Aerospike Java Client. To create a Docker container that satisfies the requirements and holds a copy of these notebooks, visit the [Aerospike Notebooks Repo](https://github.com/aerospike-examples/interactive-notebooks).\n",
    "\n",
    "## Notebook Setup \n",
    "\n",
    "Run these first to initialize Jupyter, download the Java Client, and make sure the Aerospike Database is running."
   ]
  },
  {
   "cell_type": "markdown",
   "metadata": {},
   "source": [
    "### Import Jupyter Java Integration \n",
    "\n",
    "Make it easier to work with Java in Jupyter."
   ]
  },
  {
   "cell_type": "code",
   "execution_count": 1,
   "metadata": {},
   "outputs": [],
   "source": [
    "import io.github.spencerpark.ijava.IJava;\n",
    "import io.github.spencerpark.jupyter.kernel.magic.common.Shell;\n",
    "\n",
    "IJava.getKernelInstance().getMagics().registerMagics(Shell.class);"
   ]
  },
  {
   "cell_type": "markdown",
   "metadata": {},
   "source": [
    "### Start Aerospike\n",
    "\n",
    "Ensure Aerospike database is running locally."
   ]
  },
  {
   "cell_type": "code",
   "execution_count": 2,
   "metadata": {},
   "outputs": [],
   "source": [
    "%sh asd"
   ]
  },
  {
   "cell_type": "markdown",
   "metadata": {},
   "source": [
    "### Download the Aerospike Java Client\n",
    "\n",
    "Ask Maven to download and install the project object model (POM) of the Aerospike Java Client."
   ]
  },
  {
   "cell_type": "code",
   "execution_count": 3,
   "metadata": {},
   "outputs": [],
   "source": [
    "%%loadFromPOM\n",
    "<dependencies>\n",
    "  <dependency>\n",
    "    <groupId>com.aerospike</groupId>\n",
    "    <artifactId>aerospike-client</artifactId>\n",
    "    <version>5.0.0</version>\n",
    "  </dependency>\n",
    "</dependencies>"
   ]
  },
  {
   "cell_type": "markdown",
   "metadata": {},
   "source": [
    "### Start the Aerospike Java Client and Connect\n",
    "\n",
    "Create an instance of the Aerospike Java Client, and connect to the demo cluster.\n",
    "\n",
    "The default cluster location for the Docker container is *localhost* port *3000*. If your cluster is not running on your local machine, modify *localhost* and *3000* to the values for your Aerospike cluster."
   ]
  },
  {
   "cell_type": "code",
   "execution_count": 4,
   "metadata": {},
   "outputs": [
    {
     "name": "stdout",
     "output_type": "stream",
     "text": [
      "Initialized the client and connected to the cluster.\n"
     ]
    }
   ],
   "source": [
    "import com.aerospike.client.AerospikeClient;\n",
    "\n",
    "AerospikeClient client = new AerospikeClient(\"localhost\", 3000);\n",
    "System.out.println(\"Initialized the client and connected to the cluster.\");"
   ]
  },
  {
   "cell_type": "markdown",
   "metadata": {},
   "source": [
    "## CREATING Maps in Aerospike"
   ]
  },
  {
   "cell_type": "markdown",
   "metadata": {},
   "source": [
    "### Create and Print Map Data\n",
    "\n",
    "Create a string map representing fish metadata. Create an integer map containing timestamped fish observation locations."
   ]
  },
  {
   "cell_type": "code",
   "execution_count": 20,
   "metadata": {},
   "outputs": [
    {
     "name": "stdout",
     "output_type": "stream",
     "text": [
      "Fish map: {color=Aquamarine, fruit=Pineapple, name=Annette, tree=Redwood}\n",
      "Observations Map:{13456={lat=-25, long=-50}, 14567={lat=35, long=30}, 12345={lat=-85, long=-130}}\n"
     ]
    }
   ],
   "source": [
    "import java.util.ArrayList;\n",
    "import java.util.Arrays;\n",
    "import java.util.HashMap;\n",
    "import java.util.List;\n",
    "import java.util.Map;\n",
    "\n",
    "HashMap <String, String> mapFish = new HashMap <String, String>();\n",
    "mapFish.put(\"name\", \"Annette\");\n",
    "mapFish.put(\"fruit\", \"Pineapple\");\n",
    "mapFish.put(\"color\", \"Aquamarine\");\n",
    "mapFish.put(\"tree\", \"Redwood\");\n",
    "System.out.println(\"Fish map: \" + mapFish);\n",
    "\n",
    "\n",
    "HashMap <Integer, HashMap> mapObs = new HashMap <Integer, HashMap>();\n",
    "HashMap <String, Integer> mapCoords0 = new HashMap <String, Integer>();\n",
    "mapCoords0.put(\"lat\", -85);\n",
    "mapCoords0.put(\"long\", -130);\n",
    "HashMap <String, Integer> mapCoords1 = new HashMap <String, Integer>();\n",
    "mapCoords1.put(\"lat\", -25);\n",
    "mapCoords1.put(\"long\", -50);\n",
    "HashMap <String, Integer> mapCoords2 = new HashMap <String, Integer>();\n",
    "mapCoords2.put(\"lat\", 35);\n",
    "mapCoords2.put(\"long\", 30);\n",
    "\n",
    "mapObs.put(12345, mapCoords0);\n",
    "mapObs.put(13456, mapCoords1);\n",
    "mapObs.put(14567, mapCoords2);\n",
    "System.out.println(\"Observations Map:\" + mapObs);"
   ]
  },
  {
   "cell_type": "markdown",
   "metadata": {},
   "source": [
    "### Insert the Maps into Aerospike\n",
    "\n",
    "Insert one record in Aerospike with **Key** \"koi\", and **Bin Names** *mapfishbin* and *mapobsbin*. "
   ]
  },
  {
   "cell_type": "markdown",
   "metadata": {},
   "source": [
    "#### Create a Key Java Object\n",
    "\n",
    "A **Key** identifies a specific record in your Aerospike server or cluster. Each key must have a **Namespace** and optionally a **Set** name. \n",
    "* A **Namespace** is like a database, in Aerospike.  \n",
    "* A **Set** is like a database table in Aerospike. \n",
    "\n",
    "The namespace *test* is configured on your Aerospike server or cluster. \n",
    "\n",
    "For additional information on the [Aerospike Data Model](https://www.aerospike.com/docs/architecture/data-model.html), go [here](https://www.aerospike.com/docs/architecture/data-model.html). "
   ]
  },
  {
   "cell_type": "code",
   "execution_count": 6,
   "metadata": {},
   "outputs": [
    {
     "name": "stdout",
     "output_type": "stream",
     "text": [
      "Key created.\n"
     ]
    }
   ],
   "source": [
    "import com.aerospike.client.Key;\n",
    "\n",
    "String mapSet = \"mapset1\";\n",
    "String mapNamespace = \"test\";\n",
    "\n",
    "String theKey = \"koi\";\n",
    "\n",
    "Key key = new Key(mapNamespace, mapSet, theKey);\n",
    "System.out.println(\"Key created.\" );"
   ]
  },
  {
   "cell_type": "markdown",
   "metadata": {},
   "source": [
    "#### Create a Bin Java Object for Each Map\n",
    "\n",
    "A **Bin** is a data field in an Aerospike record."
   ]
  },
  {
   "cell_type": "code",
   "execution_count": 7,
   "metadata": {},
   "outputs": [
    {
     "name": "stdout",
     "output_type": "stream",
     "text": [
      "Created mapfishbin:{color=Aquamarine, fruit=Pineapple, name=Annette, tree=Redwood} and mapobsbin:{13456={lat=-25, long=-50}, 14567={lat=35, long=30}, 12345={lat=-85, long=-130}}.\n"
     ]
    }
   ],
   "source": [
    "import com.aerospike.client.Bin;\n",
    "\n",
    "String mapFishBin = \"mapfishbin\";\n",
    "String mapObsBin = \"mapobsbin\";\n",
    "\n",
    "Bin bin1 = new Bin(mapFishBin, mapFish);\n",
    "Bin bin2 = new Bin(mapObsBin, mapObs);\n",
    "\n",
    "System.out.println( \"Created \" + bin1 + \" and \" + bin2 + \".\");"
   ]
  },
  {
   "cell_type": "markdown",
   "metadata": {},
   "source": [
    "#### Create a Write Policy Java Object for Record Insertion \n",
    "\n",
    "A **Policy** tells Aerospike the intent of a database operation. \n",
    "\n",
    "For more information on [policies](https://www.aerospike.com/docs/guide/policies.html), go [here](https://www.aerospike.com/docs/guide/policies.html)."
   ]
  },
  {
   "cell_type": "code",
   "execution_count": 8,
   "metadata": {},
   "outputs": [
    {
     "name": "stdout",
     "output_type": "stream",
     "text": [
      "Created a client policy.\n"
     ]
    }
   ],
   "source": [
    "import com.aerospike.client.policy.WritePolicy;\n",
    "import com.aerospike.client.policy.ClientPolicy;\n",
    "\n",
    "ClientPolicy clientPolicy = new ClientPolicy();\n",
    "System.out.println(\"Created a client policy.\");"
   ]
  },
  {
   "cell_type": "markdown",
   "metadata": {},
   "source": [
    "#### Put the Map Data into Aerospike"
   ]
  },
  {
   "cell_type": "code",
   "execution_count": 9,
   "metadata": {},
   "outputs": [
    {
     "name": "stdout",
     "output_type": "stream",
     "text": [
      "Key: koi, mapfishbin: {color=Aquamarine, fruit=Pineapple, name=Annette, tree=Redwood}, mapobsbin: {13456={lat=-25, long=-50}, 14567={lat=35, long=30}, 12345={lat=-85, long=-130}}\n"
     ]
    }
   ],
   "source": [
    "client.put(clientPolicy.writePolicyDefault, key, bin1, bin2);\n",
    "System.out.println(\"Key: \" + theKey + \", mapfishbin: \" + mapFish + \", mapobsbin: \" + mapObs );"
   ]
  },
  {
   "cell_type": "markdown",
   "metadata": {},
   "source": [
    "## READING Maps and Map Elements From the Server\n",
    "\n",
    "Now that the maps are in Aerospike, the client can return full or partial maps from **bin** contents. No data is modified by these ops."
   ]
  },
  {
   "cell_type": "markdown",
   "metadata": {},
   "source": [
    "### Get the Record\n",
    "\n",
    "A record can be retrieved using the **key**, **namespace**, and **set** name.\n",
    "\n",
    "In the output: \n",
    "* **gen** is the generation number, the number of record writes. \n",
    "* **exp** is the expiration counter for the record.\n",
    "\n",
    "For more information on [both generation number and expiration](https://www.aerospike.com/docs/guide/FAQ.html), see the [Aerospike FAQ](https://www.aerospike.com/docs/guide/FAQ.html)."
   ]
  },
  {
   "cell_type": "code",
   "execution_count": 10,
   "metadata": {
    "scrolled": true
   },
   "outputs": [
    {
     "name": "stdout",
     "output_type": "stream",
     "text": [
      "(gen:41),(exp:352069551),(bins:(mapfishbin:{name=Annette, tree=Redwood, color=Aquamarine, fruit=Pineapple}),(mapobsbin:{13456={lat=-25, long=-50}, 12345={lat=-85, long=-130}, 14567={lat=35, long=30}}))\n"
     ]
    }
   ],
   "source": [
    "import com.aerospike.client.Record;\n",
    "\n",
    "Key key = new Key(mapNamespace, mapSet, theKey);\n",
    "Record record = client.get(null, key);\n",
    "System.out.println(record);"
   ]
  },
  {
   "cell_type": "markdown",
   "metadata": {},
   "source": [
    "### Get String Elements by Mapkey, Rank, and Value\n",
    "\n",
    "Aerospike provides **MapOperations** to read string mapkeys and values from the Aerospike Server or Cluster. \n",
    "\n",
    "The mapFishBin is a map containing string mapkey/value pairs associated with the fish, \"Koi\".\n",
    "\n",
    "For more information on [map operations](https://www.aerospike.com/apidocs/java/com/aerospike/client/cdt/MapOperation.html), go [here](https://www.aerospike.com/apidocs/java/com/aerospike/client/cdt/MapOperation.html)."
   ]
  },
  {
   "cell_type": "markdown",
   "metadata": {},
   "source": [
    "#### Get String by Mapkey\n",
    "\n",
    "Aerospike provides operations to look up a value by mapkey. As a convenience, the client returns the specified value as the contents of the bin. \n",
    "\n",
    "For the list of [return type options](https://www.aerospike.com/apidocs/java/com/aerospike/client/cdt/MapReturnType.html), go [here](https://www.aerospike.com/apidocs/java/com/aerospike/client/cdt/MapReturnType.html). "
   ]
  },
  {
   "cell_type": "code",
   "execution_count": 13,
   "metadata": {},
   "outputs": [
    {
     "name": "stdout",
     "output_type": "stream",
     "text": [
      "The string map: {name=Annette, tree=Redwood, color=Aquamarine, fruit=Pineapple}\n",
      "The color in string map is: Aquamarine\n"
     ]
    }
   ],
   "source": [
    "import com.aerospike.client.Operation;\n",
    "import com.aerospike.client.Value;\n",
    "import com.aerospike.client.cdt.MapOperation;\n",
    "import com.aerospike.client.cdt.MapReturnType;\n",
    "// import com.aerospike.client.cdt.CTX;\n",
    "\n",
    "String mapKeyToFind = \"color\";\n",
    "\n",
    "Key key = new Key(mapNamespace, mapSet, theKey);\n",
    "Record record = client.get(null, key);\n",
    "Record colorString = client.operate(null, key, \n",
    "    MapOperation.getByKey(mapFishBin, Value.get(mapKeyToFind), MapReturnType.VALUE)\n",
    "    );\n",
    "\n",
    "System.out.println(\"The string map: \" + record.getValue(mapFishBin));\n",
    "System.out.println(\"The color in string map is: \" + colorString.getValue(mapFishBin));"
   ]
  },
  {
   "cell_type": "markdown",
   "metadata": {},
   "source": [
    "#### Get Highest Rank String\n",
    "\n",
    "Aerospike provides operations to look up a value by rank within the map. \n",
    "\n",
    "For information on [list ranking](https://en.wikipedia.org/wiki/List_ranking), go [here](https://en.wikipedia.org/wiki/List_ranking)."
   ]
  },
  {
   "cell_type": "code",
   "execution_count": 16,
   "metadata": {},
   "outputs": [
    {
     "name": "stdout",
     "output_type": "stream",
     "text": [
      "The string map: {name=Annette, tree=Redwood, color=Aquamarine, fruit=Pineapple}\n",
      "The highest rank string is: Redwood\n"
     ]
    }
   ],
   "source": [
    "Integer highestRank = -1;\n",
    "\n",
    "Key key = new Key(mapNamespace, mapSet, theKey);\n",
    "Record record = client.get(null, key);\n",
    "Record highestRankString = client.operate(null, key, \n",
    "    MapOperation.getByRank(mapFishBin, highestRank, MapReturnType.VALUE)\n",
    "    );\n",
    "\n",
    "System.out.println(\"The string map: \" + record.getValue(mapFishBin));\n",
    "System.out.println(\"The highest rank string is: \" + highestRankString.getValue(mapFishBin));"
   ]
  },
  {
   "cell_type": "markdown",
   "metadata": {},
   "source": [
    "#### Get Mapkey By String Value\n",
    "\n",
    "Aerospike provides operations to look up a mapkey by the associated value. "
   ]
  },
  {
   "cell_type": "code",
   "execution_count": 17,
   "metadata": {},
   "outputs": [
    {
     "name": "stdout",
     "output_type": "stream",
     "text": [
      "The string map: {name=Annette, tree=Redwood, color=Aquamarine, fruit=Pineapple}\n",
      "The mapkey associated with Pineapple is: [fruit]\n"
     ]
    }
   ],
   "source": [
    "String valueToFind = \"Pineapple\";\n",
    "\n",
    "Key key = new Key(mapNamespace, mapSet, theKey);\n",
    "Record record = client.get(null, key);\n",
    "Record foundMapKey = client.operate(null, key, \n",
    "    MapOperation.getByValue(mapFishBin, Value.get(valueToFind), MapReturnType.KEY)\n",
    "    );\n",
    "\n",
    "System.out.println(\"The string map: \" + record.getValue(mapFishBin));\n",
    "System.out.println(\"The mapkey associated with \" + valueToFind + \" is: \" + foundMapKey.getValue(mapFishBin));"
   ]
  },
  {
   "cell_type": "markdown",
   "metadata": {},
   "source": [
    "### Get Integer Data by Size, Index and Key Range\n",
    "\n",
    "Aerospike provides operations to read integers associated with fish observations.\n",
    "\n",
    "The mapobsbin is a list of Latitude/Longitude pairs stored by the time of fish observation in seconds from the start of the experiment. The number of seconds, latitude, and longitude are all integers."
   ]
  },
  {
   "cell_type": "markdown",
   "metadata": {},
   "source": [
    "#### Get the Number of Observations in the Map\n",
    "\n",
    "Aerospike provides a size operation, which returns a count of the mapkeys in a map."
   ]
  },
  {
   "cell_type": "code",
   "execution_count": 18,
   "metadata": {},
   "outputs": [
    {
     "name": "stdout",
     "output_type": "stream",
     "text": [
      "The Observation Map: {13456={lat=-25, long=-50}, 12345={lat=-85, long=-130}, 14567={lat=35, long=30}}\n",
      "The number of Observations in the Map: 3\n"
     ]
    }
   ],
   "source": [
    "Key key = new Key(mapNamespace, mapSet, theKey);\n",
    "Record record = client.get(null, key);\n",
    "Record sizeString = client.operate(null, key, \n",
    "    MapOperation.size(mapObsBin)\n",
    "    );\n",
    "\n",
    "System.out.println(\"The Observation Map: \" + record.getValue(mapObsBin));\n",
    "System.out.println(\"The number of Observations in the Map: \" + sizeString.getValue(mapObsBin));"
   ]
  },
  {
   "cell_type": "markdown",
   "metadata": {},
   "source": [
    "#### Get The First Observation in the Map \n",
    "\n",
    "Maps are sorted by mapkey. **Docs suggest this isn't the default. Is this reliable, or due to my use of a HashMap?** The first element by index represents the first time the fish was observed. Aerospike provides operations to look up a value by index.\n",
    "\n",
    "Aerospike operations allow indexing forward from the beginning of the list using zero-based numbering. Negative numbers index backwards from the end of a list. \n",
    "\n",
    "For examples of [indexes](https://www.aerospike.com/apidocs/java/com/aerospike/client/cdt/MapOperation.html), go [here](https://www.aerospike.com/apidocs/java/com/aerospike/client/cdt/MapOperation.html)."
   ]
  },
  {
   "cell_type": "code",
   "execution_count": 21,
   "metadata": {},
   "outputs": [
    {
     "name": "stdout",
     "output_type": "stream",
     "text": [
      "The Observation Map: {13456={lat=-25, long=-50}, 12345={lat=-85, long=-130}, 14567={lat=35, long=30}}\n",
      "The First Observation: [12345={lat=-85, long=-130}]\n"
     ]
    }
   ],
   "source": [
    "Integer firstIdx = 0;\n",
    "\n",
    "Key key = new Key(mapNamespace, mapSet, theKey);\n",
    "Record record = client.get(null, key);\n",
    "Record firstObservation = client.operate(null, key, \n",
    "    MapOperation.getByIndex(mapObsBin, firstIdx, MapReturnType.KEY_VALUE)\n",
    "    );\n",
    "\n",
    "System.out.println(\"The Observation Map: \" + record.getValue(mapObsBin));\n",
    "System.out.println(\"The First Observation: \" + firstObservation.getValue(mapObsBin));"
   ]
  },
  {
   "cell_type": "markdown",
   "metadata": {},
   "source": [
    "#### Get All Locations Observed Between 13,000 and 15,000 seconds.\n",
    "\n",
    "Aerospike provides operations to get values by mapkey range. Get the latitude and longitude pairs for all observations between 13,000 and 15,000 seconds.  "
   ]
  },
  {
   "cell_type": "code",
   "execution_count": 22,
   "metadata": {},
   "outputs": [
    {
     "name": "stdout",
     "output_type": "stream",
     "text": [
      "The Observation Map: {13456={lat=-25, long=-50}, 12345={lat=-85, long=-130}, 14567={lat=35, long=30}}\n",
      "The Observations between 13000 and 15000 seconds: [13456={lat=-25, long=-50}, 14567={lat=35, long=30}]\n"
     ]
    }
   ],
   "source": [
    "Integer lowerBound = 13000;\n",
    "Integer upperBound = 15000;\n",
    "\n",
    "Key key = new Key(mapNamespace, mapSet, theKey);\n",
    "Record record = client.get(null, key);\n",
    "Record rangeObservations = client.operate(null, key, \n",
    "    MapOperation.getByKeyRange(mapObsBin, Value.get(lowerBound), Value.get(upperBound), MapReturnType.KEY_VALUE)\n",
    "    );\n",
    "\n",
    "System.out.println(\"The Observation Map: \" + record.getValue(mapObsBin));\n",
    "System.out.println(\"The Observations between 13000 and 15000 seconds: \" + rangeObservations.getValue(mapObsBin));"
   ]
  },
  {
   "cell_type": "markdown",
   "metadata": {},
   "source": [
    "## UPDATING Maps on the Aerospike Server\n",
    "\n",
    "Aerospike's **MapOperations** can also modify data in the Aerospike database."
   ]
  },
  {
   "cell_type": "markdown",
   "metadata": {},
   "source": [
    "### Update the Fish Bin in Aerospike\n",
    "\n",
    "The Fish Bin contains metadata about the fish."
   ]
  },
  {
   "cell_type": "markdown",
   "metadata": {},
   "source": [
    "#### Create a MapPolicy Java Object for the Fish Bin\n",
    "\n",
    "When modifying maps, Aerospike requires a **MapPolicy** to set the **MapWriteMode** and optionally change the sort order. The mapwritemode determines if the operation should fail if a mapkey or value already exists. \n",
    "\n",
    "For more information on [mappolicy](https://www.aerospike.com/apidocs/java/com/aerospike/client/cdt/MapPolicy.html), go [here](https://www.aerospike.com/apidocs/java/com/aerospike/client/cdt/MapPolicy.html).\n",
    "\n",
    "For more information on [mapwritemode](https://www.aerospike.com/apidocs/java/com/aerospike/client/cdt/MapWriteMode.html), go [here](https://www.aerospike.com/apidocs/java/com/aerospike/client/cdt/MapWriteMode.html)."
   ]
  },
  {
   "cell_type": "code",
   "execution_count": 23,
   "metadata": {},
   "outputs": [
    {
     "name": "stdout",
     "output_type": "stream",
     "text": [
      "Created default MapPolicy for mapFishBin.\n"
     ]
    }
   ],
   "source": [
    "import com.aerospike.client.cdt.MapPolicy;\n",
    "import com.aerospike.client.cdt.MapWriteMode;\n",
    "\n",
    "MapPolicy mapFishBinPolicy = new MapPolicy();\n",
    "System.out.println(\"Created default MapPolicy for mapFishBin.\")"
   ]
  },
  {
   "cell_type": "markdown",
   "metadata": {},
   "source": [
    "#### Change the Tree to Larch\n",
    "As a convenience, when new data is put into a map, Aerospike returns the size of the resulting map. "
   ]
  },
  {
   "cell_type": "code",
   "execution_count": 24,
   "metadata": {},
   "outputs": [
    {
     "name": "stdout",
     "output_type": "stream",
     "text": [
      "The original Fish Map: {name=Annette, tree=Redwood, color=Aquamarine, fruit=Pineapple}\n",
      "The size of the Map after the operation: 4\n",
      "The new Fish Map: {name=Annette, tree=Larch, color=Aquamarine, fruit=Pineapple}\n"
     ]
    }
   ],
   "source": [
    "String treeMapkeyName = \"tree\";\n",
    "String newTree = \"Larch\";\n",
    "\n",
    "Key key = new Key(mapNamespace, mapSet, theKey);\n",
    "Record record = client.get(null, key);\n",
    "Record sizeOfMapWithNewTree = client.operate(null, key, \n",
    "    MapOperation.put(mapFishBinPolicy, mapFishBin, Value.get(treeMapkeyName), Value.get(newTree))\n",
    "    );\n",
    "Record mapWithNewTree = client.get(null, key);\n",
    "\n",
    "System.out.println(\"The original Fish Map: \" + record.getValue(mapFishBin));\n",
    "System.out.println(\"The size of the Map after the operation: \" + sizeOfMapWithNewTree.getValue(mapFishBin));\n",
    "System.out.println(\"The new Fish Map: \" + mapWithNewTree.getValue(mapFishBin));"
   ]
  },
  {
   "cell_type": "markdown",
   "metadata": {},
   "source": [
    "####  Remove the Fruit\n",
    "\n",
    "As a convenience, when removing a mapkey:value pair, Aerospike client returns the removed data."
   ]
  },
  {
   "cell_type": "code",
   "execution_count": 25,
   "metadata": {
    "scrolled": true
   },
   "outputs": [
    {
     "name": "stdout",
     "output_type": "stream",
     "text": [
      "The original Fish Map: {name=Annette, tree=Larch, color=Aquamarine, fruit=Pineapple}\n",
      "The removed mapkey/value pair: [fruit=Pineapple]\n",
      "The new Fish Map: {color=Aquamarine, name=Annette, tree=Larch}\n"
     ]
    }
   ],
   "source": [
    "String fruitMapkeyName = \"fruit\";\n",
    "\n",
    "Key key = new Key(mapNamespace, mapSet, theKey);\n",
    "Record record = client.get(null, key);\n",
    "Record valOfRemovedFruit = client.operate(null, key, \n",
    "    MapOperation.removeByKey(mapFishBin, Value.get(fruitMapkeyName), MapReturnType.KEY_VALUE)\n",
    "    );\n",
    "Record mapWithoutFruit = client.get(null, key);\n",
    "\n",
    "System.out.println(\"The original Fish Map: \" + record.getValue(mapFishBin));\n",
    "System.out.println(\"The removed mapkey/value pair: \" + valOfRemovedFruit.getValue(mapFishBin));\n",
    "System.out.println(\"The new Fish Map: \" + mapWithoutFruit.getValue(mapFishBin));"
   ]
  },
  {
   "cell_type": "markdown",
   "metadata": {},
   "source": [
    "#### Add Bait\n",
    "\n",
    "To be sure that other scientists can catch the fish, add the fish's preferrred bait to the record."
   ]
  },
  {
   "cell_type": "code",
   "execution_count": 26,
   "metadata": {},
   "outputs": [
    {
     "name": "stdout",
     "output_type": "stream",
     "text": [
      "The original Fish Map: {color=Aquamarine, name=Annette, tree=Larch}\n",
      "The Fish Map with Bait: {name=Annette, tree=Larch, color=Aquamarine, bait=Mosquito Larva}\n"
     ]
    }
   ],
   "source": [
    "String mapkeyForBait = \"bait\";\n",
    "String valueForBait = \"Mosquito Larva\";\n",
    "\n",
    "Key key = new Key(mapNamespace, mapSet, theKey);\n",
    "Record record = client.get(null, key);\n",
    "Record sizeOfRecordWithBait = client.operate(null, key, \n",
    "    MapOperation.put(mapFishBinPolicy, mapFishBin, Value.get(mapkeyForBait), Value.get(valueForBait))\n",
    "    );\n",
    "Record recordWithBait = client.get(null, key);\n",
    "\n",
    "System.out.println(\"The original Fish Map: \" + record.getValue(mapFishBin));\n",
    "System.out.println(\"The Fish Map with Bait: \" + recordWithBait.getValue(mapFishBin));"
   ]
  },
  {
   "cell_type": "markdown",
   "metadata": {},
   "source": [
    "### Update the Observation Map in Aerospike\n",
    "Aerospike provides operations to update integers and sub-maps, also."
   ]
  },
  {
   "cell_type": "markdown",
   "metadata": {},
   "source": [
    "#### Create a MapPolicy Java Object for the Observations Bin"
   ]
  },
  {
   "cell_type": "code",
   "execution_count": 27,
   "metadata": {},
   "outputs": [
    {
     "name": "stdout",
     "output_type": "stream",
     "text": [
      "Created default MapPolicy for mapObsBin.\n"
     ]
    }
   ],
   "source": [
    "MapPolicy mapObsBinPolicy = new MapPolicy();\n",
    "System.out.println(\"Created default MapPolicy for mapObsBin.\");"
   ]
  },
  {
   "cell_type": "markdown",
   "metadata": {},
   "source": [
    "#### Put an Observation Counter in the Map \n",
    "\n",
    "The experiment continued past the original end date. The new work requires keeping track of the total number of observations."
   ]
  },
  {
   "cell_type": "code",
   "execution_count": 28,
   "metadata": {},
   "outputs": [
    {
     "name": "stdout",
     "output_type": "stream",
     "text": [
      "The original Observations Map: {13456={lat=-25, long=-50}, 12345={lat=-85, long=-130}, 14567={lat=35, long=30}}\n",
      "The Observations Map with Counter: {13456={lat=-25, long=-50}, 12345={lat=-85, long=-130}, Count=3, 14567={lat=35, long=30}}\n"
     ]
    }
   ],
   "source": [
    "String mapkeyObsCount = \"Count\";\n",
    "Integer numObservations = 3;\n",
    "\n",
    "Key key = new Key(mapNamespace, mapSet, theKey);\n",
    "Record record = client.get(null, key);\n",
    "Record sizeOfRecordWithObsCounter = client.operate(null, key, \n",
    "    MapOperation.put(mapObsBinPolicy, mapObsBin, Value.get(mapkeyObsCount), Value.get(numObservations))\n",
    "    );\n",
    "Record recordWithObsCount = client.get(null, key);\n",
    "\n",
    "System.out.println(\"The original Observations Map: \" + record.getValue(mapObsBin));\n",
    "System.out.println(\"The Observations Map with Counter: \" + recordWithObsCount.getValue(mapObsBin));"
   ]
  },
  {
   "cell_type": "markdown",
   "metadata": {},
   "source": [
    "#### Add a new Observation\n",
    "\n",
    "For this tutorial, adding an observation does not require **strong consistency**. Aerospike Enterprise Edition supports strong consistency. \n",
    "\n",
    "For more information on [strong consistency](https://www.aerospike.com/docs/architecture/consistency.html), go [here](https://www.aerospike.com/docs/architecture/consistency.html). "
   ]
  },
  {
   "cell_type": "code",
   "execution_count": 29,
   "metadata": {},
   "outputs": [
    {
     "name": "stdout",
     "output_type": "stream",
     "text": [
      "The Original Observation Map: {13456={lat=-25, long=-50}, 12345={lat=-85, long=-130}, Count=3, 14567={lat=35, long=30}}\n",
      "The Size of the new Obs Map: 5\n",
      "The Map with New Observation: {13456={lat=-25, long=-50}, 12345={lat=-85, long=-130}, Count=3, 15678={lat=80, long=110}, 14567={lat=35, long=30}}\n"
     ]
    }
   ],
   "source": [
    "int newObsTimestamp = 15678;\n",
    "int newObsLat = 80;\n",
    "int newObsLong = 110;\n",
    "\n",
    "HashMap <Integer, HashMap> mapNewObs = new HashMap <Integer, HashMap>();\n",
    "HashMap <String, Integer> mapNewCoords = new HashMap <String, Integer>();\n",
    "mapNewCoords.put(\"lat\", newObsLat);\n",
    "mapNewCoords.put(\"long\", newObsLong);\n",
    "\n",
    "Key key = new Key(mapNamespace, mapSet, theKey);\n",
    "Record record = client.get(null, key);\n",
    "Record sizeOfNewObs = client.operate(null, key, \n",
    "    MapOperation.put(mapObsBinPolicy, mapObsBin, Value.get(newObsTimestamp), Value.get(mapNewCoords))\n",
    "    );\n",
    "Record recordWithNewObs = client.get(null, key);\n",
    "\n",
    "System.out.println(\"The Original Observation Map: \" + record.getValue(mapObsBin));\n",
    "System.out.println(\"The Size of the new Obs Map: \" + sizeOfNewObs.getValue(mapObsBin));\n",
    "System.out.println(\"The Map with New Observation: \" + recordWithNewObs.getValue(mapObsBin));"
   ]
  },
  {
   "cell_type": "markdown",
   "metadata": {},
   "source": [
    "#### Remove the Oldest Observation by Index\n",
    "\n",
    "This study only maintains the three most recent observations."
   ]
  },
  {
   "cell_type": "code",
   "execution_count": null,
   "metadata": {},
   "outputs": [],
   "source": [
    "Key key = new Key(mapNamespace, mapSet, theKey);\n",
    "Record record = client.get(null, key);\n",
    "Record oldObs = client.operate(null, key, \n",
    "    MapOperation.removeByIndex(mapObsBin, firstIdx, MapReturnType.KEY_VALUE)\n",
    "    );\n",
    "Record updatedRecord = client.get(null, key);\n",
    "\n",
    "System.out.println(\"The Original Observation Map: \" + record.getValue(mapObsBin));\n",
    "System.out.println(\"The Removed Observation: \" + oldObs.getValue(mapObsBin));\n",
    "System.out.println(\"The New Map: \" + updatedRecord.getValue(mapObsBin));"
   ]
  },
  {
   "cell_type": "markdown",
   "metadata": {},
   "source": [
    "#### Increment the Observation Counter\n",
    "\n",
    "When incrementing a map value, Aerospike returns the new value as a convenience."
   ]
  },
  {
   "cell_type": "code",
   "execution_count": 30,
   "metadata": {},
   "outputs": [
    {
     "name": "stdout",
     "output_type": "stream",
     "text": [
      "The Original Observation Map: {13456={lat=-25, long=-50}, 12345={lat=-85, long=-130}, Count=3, 15678={lat=80, long=110}, 14567={lat=35, long=30}}\n",
      "The New Count: 4\n",
      "The New Map: {13456={lat=-25, long=-50}, 12345={lat=-85, long=-130}, Count=4, 15678={lat=80, long=110}, 14567={lat=35, long=30}}\n"
     ]
    }
   ],
   "source": [
    "int incNum = 1;\n",
    "\n",
    "Key key = new Key(mapNamespace, mapSet, theKey);\n",
    "Record record = client.get(null, key);\n",
    "Record obsCount = client.operate(null, key, \n",
    "    MapOperation.increment(mapObsBinPolicy, mapObsBin, Value.get(mapkeyObsCount), Value.get(incNum))\n",
    "    );\n",
    "Record updatedRecord = client.get(null, key);\n",
    "\n",
    "System.out.println(\"The Original Observation Map: \" + record.getValue(mapObsBin));\n",
    "System.out.println(\"The New Count: \" + obsCount.getValue(mapObsBin));\n",
    "System.out.println(\"The New Map: \" + updatedRecord.getValue(mapObsBin));"
   ]
  },
  {
   "cell_type": "markdown",
   "metadata": {},
   "source": [
    "## DELETING the Records and Closing Server Connection\n",
    "\n",
    "1. Use the **asinfo** administration tool to dump the set containing our list data.\n",
    "2. Close the client's connection to the Aerospike cluster."
   ]
  },
  {
   "cell_type": "code",
   "execution_count": null,
   "metadata": {},
   "outputs": [],
   "source": [
    "%sh asinfo -v \"truncate:namespace=test;set=mapset1;\"\n",
    "client.close();\n",
    "System.out.println(\"Index dropped and server connection closed.\");"
   ]
  },
  {
   "cell_type": "markdown",
   "metadata": {},
   "source": [
    "## Aerospike Does Maps\n",
    "\n",
    "Aerospike and its Java Client are up to the task of working with your map data. It provides rich operations to read and update list data using index, mapkey, value, and rank. Not modeled in this tutorial, Aerospike map operation also supports nested map, by assigning **CTX** or contexts to operations.\n",
    "\n",
    "For more [information on contexts](https://www.aerospike.com/apidocs/java/com/aerospike/client/cdt/CTX.html), go [here](https://www.aerospike.com/apidocs/java/com/aerospike/client/cdt/CTX.html). For [examples of contexts](https://www.aerospike.com/apidocs/java/com/aerospike/client/cdt/MapOperation.html), go [here](https://www.aerospike.com/apidocs/java/com/aerospike/client/cdt/MapOperation.html). "
   ]
  },
  {
   "cell_type": "markdown",
   "metadata": {},
   "source": [
    "## What's Next?\n",
    "\n",
    "Want to learn more?\n"
   ]
  },
  {
   "cell_type": "markdown",
   "metadata": {},
   "source": [
    "### Next Steps\n",
    "\n",
    "Have questions? Don't hesitate to reach out if you have additional questions about working with lists at https://discuss.aerospike.com/.\n",
    "\n",
    "Want to check out other Java notebooks?\n",
    "1. [Hello, World](hello_world.ipynb)\n",
    "2. [Aerospike Query and UDF](query_udf.ipynb)\n",
    "3. [Simple Put Get Example](SimplePutGetExample.ipynb)\n",
    "4. [Working with Twitter Data](tweetaspike.ipynb)\n",
    "5. [Working with Lists](java-working_with_lists.ipynb)\n",
    "\n",
    "Are you running this from Binder? [Download the Aerospike Notebook Repo](https://github.com/aerospike-examples/interactive-notebooks) and work with Aerospike Database and Jupyter locally using a Docker container."
   ]
  },
  {
   "cell_type": "markdown",
   "metadata": {},
   "source": [
    "### Additional Resources\n",
    "\n",
    "* What else can we do in Java? See the [Aerospike Java Client](https://github.com/aerospike/aerospike-client-java). \n",
    "* What other ways can we work with Maps? Take a look at [Aerospike's Map Operations](https://www.aerospike.com/apidocs/java/com/aerospike/client/cdt/MapOperation.html).\n",
    "* What are Namespaces, Sets, and Bins? Check out the [Aerospike Data Model](https://www.aerospike.com/docs/architecture/data-model.html). \n",
    "* How robust is the Aerospike database? Browses the [Aerospike Database Architecture](https://www.aerospike.com/docs/architecture/index.html)."
   ]
  }
 ],
 "metadata": {
  "kernelspec": {
   "display_name": "Java",
   "language": "java",
   "name": "java"
  },
  "language_info": {
   "codemirror_mode": "java",
   "file_extension": ".jshell",
   "mimetype": "text/x-java-source",
   "name": "Java",
   "pygments_lexer": "java",
   "version": "11.0.8+10-LTS"
  },
  "toc": {
   "base_numbering": 1,
   "nav_menu": {},
   "number_sections": true,
   "sideBar": true,
   "skip_h1_title": false,
   "title_cell": "Table of Contents",
   "title_sidebar": "Contents",
   "toc_cell": false,
   "toc_position": {},
   "toc_section_display": true,
   "toc_window_display": false
  }
 },
 "nbformat": 4,
 "nbformat_minor": 4
}
