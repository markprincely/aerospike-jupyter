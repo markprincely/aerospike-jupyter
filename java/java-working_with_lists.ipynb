{
 "cells": [
  {
   "cell_type": "markdown",
   "metadata": {},
   "source": [
    "# Aerospike Java Client – Reading and Updating Lists\n",
    "\n",
    "This notebook demonstrates Java Aerospike CRUD operations (Create, Read, Update, Delete) for lists of data, focusing on server-side **read** and **update** operations, including **sort**. \n",
    "\n",
    "This [Jupyter Notebook](https://jupyter-notebook.readthedocs.io/en/stable/examples/Notebook/examples_index.html) requires the Aerospike database running locally with Java kernel and Aerospike Java Client. To create a Docker container that satisfies the requirements and holds a copy of these notebooks, visit the [Aerospike Notebooks Repo](https://github.com/aerospike-examples/interactive-notebooks)."
   ]
  },
  {
   "cell_type": "markdown",
   "metadata": {},
   "source": [
    "## Notebook Setup \n",
    "\n",
    "Run these first to initialize Jupyter, download the Java Client, and make sure the Aerospike Database is running."
   ]
  },
  {
   "cell_type": "markdown",
   "metadata": {},
   "source": [
    "### Import Jupyter Java Integration \n",
    "\n",
    "Make it easier to work with Java in Jupyter."
   ]
  },
  {
   "cell_type": "code",
   "execution_count": 11,
   "metadata": {},
   "outputs": [],
   "source": [
    "import io.github.spencerpark.ijava.IJava;\n",
    "import io.github.spencerpark.jupyter.kernel.magic.common.Shell;\n",
    "\n",
    "IJava.getKernelInstance().getMagics().registerMagics(Shell.class);"
   ]
  },
  {
   "cell_type": "markdown",
   "metadata": {},
   "source": [
    "### Start Aerospike\n",
    "\n",
    "Ensure Aerospike database is running locally."
   ]
  },
  {
   "cell_type": "code",
   "execution_count": 10,
   "metadata": {},
   "outputs": [],
   "source": [
    "%sh asd"
   ]
  },
  {
   "cell_type": "markdown",
   "metadata": {},
   "source": [
    "### Download the Aerospike Java Client\n",
    "\n",
    "Ask Maven to download and install the project object model (POM) of the Aerospike Java Client."
   ]
  },
  {
   "cell_type": "code",
   "execution_count": 12,
   "metadata": {},
   "outputs": [],
   "source": [
    "%%loadFromPOM\n",
    "<dependencies>\n",
    "  <dependency>\n",
    "    <groupId>com.aerospike</groupId>\n",
    "    <artifactId>aerospike-client</artifactId>\n",
    "    <version>5.0.0</version>\n",
    "  </dependency>\n",
    "</dependencies>"
   ]
  },
  {
   "cell_type": "markdown",
   "metadata": {},
   "source": [
    "### Start the Aerospike Java Client and Connect\n",
    "\n",
    "Create an instance of the Aerospike Java Client, and connect to the demo cluster.\n",
    "\n",
    "The default cluster location for the Docker container is *localhost* port *3000*. If your cluster is not running on your local machine, modify *localhost* and *3000* to the values for your Aerospike cluster."
   ]
  },
  {
   "cell_type": "code",
   "execution_count": 3,
   "metadata": {},
   "outputs": [
    {
     "name": "stdout",
     "output_type": "stream",
     "text": [
      "Initialized the client and connected to the cluster.\n"
     ]
    }
   ],
   "source": [
    "import com.aerospike.client.AerospikeClient;\n",
    "\n",
    "AerospikeClient client = new AerospikeClient(\"localhost\", 3000);\n",
    "System.out.println(\"Initialized the client and connected to the cluster.\");"
   ]
  },
  {
   "cell_type": "markdown",
   "metadata": {},
   "source": [
    "## CREATE Lists in the Database and READ List Records\n",
    "\n",
    "1. Create 10 **Keys** containing lists numbered 1 - 10. \n",
    "2. Create a String list and an Integer list.\n",
    "3. Upload the lists into **Bins** named *liststrbin*  and *listintbin*. Place them in the *test* namespace in the *listset1* set.\n",
    "4. Print the data.\n",
    " \n",
    "A **Namespace** is like a database in Aerospike. A **Set** is like a database table in Aerospike. A **Key** is a record in the Aerospike database. A **Bin** is a field in the database record."
   ]
  },
  {
   "cell_type": "code",
   "execution_count": 4,
   "metadata": {},
   "outputs": [
    {
     "name": "stdout",
     "output_type": "stream",
     "text": [
      "Key: 0, listStr: [Annette, Pineapple, Aquamarine], listInt: [0, 10, 1, 0, 0]\n",
      "Key: 1, listStr: [Bharat, Nectarine, Mauve], listInt: [1, 9, 2, 2, 1]\n",
      "Key: 2, listStr: [Chenguang, Avocado, Snowflake], listInt: [2, 8, 3, 4, 4]\n",
      "Key: 3, listStr: [Darrell, Pear, Salmon], listInt: [3, 7, 4, 6, 9]\n",
      "Key: 4, listStr: [Eva, Mangosteen, Khaki], listInt: [4, 6, 5, 8, 16]\n",
      "Key: 5, listStr: [Francois, Date, Black], listInt: [5, 5, 6, 10, 25]\n",
      "Key: 6, listStr: [Geri, Banana, Darkslategray], listInt: [6, 4, 7, 12, 36]\n",
      "Key: 7, listStr: [Helen, Orange, Royalblue], listInt: [7, 3, 8, 14, 49]\n",
      "Key: 8, listStr: [Ian, Tomato, White], listInt: [8, 2, 9, 16, 64]\n",
      "Key: 9, listStr: [Javier, Durian, Rainbow], listInt: [9, 1, 10, 18, 81]\n"
     ]
    }
   ],
   "source": [
    "import java.util.ArrayList;\n",
    "import java.util.Arrays;\n",
    "import java.util.HashMap;\n",
    "import java.util.List;\n",
    "import java.util.Map;\n",
    "\n",
    "import com.aerospike.client.AerospikeClient;\n",
    "import com.aerospike.client.policy.WritePolicy;\n",
    "import com.aerospike.client.policy.ClientPolicy;\n",
    "import com.aerospike.client.Bin;\n",
    "import com.aerospike.client.Key;\n",
    "\n",
    "String listNamespace = \"test\";\n",
    "String listSet = \"listset1\";\n",
    "String listStrBin = \"liststrbin\";\n",
    "String listIntBin = \"listintbin\";\n",
    "\n",
    "int numRecords = 10;\n",
    "\n",
    "String names[] = {\"Annette\", \"Bharat\", \"Chenguang\", \"Darrell\", \"Eva\", \n",
    "                \"Francois\", \"Geri\", \"Helen\", \"Ian\", \"Javier\"};\n",
    "\n",
    "String fruits[] = {\"Pineapple\", \"Nectarine\", \"Avocado\", \"Pear\", \"Mangosteen\", \n",
    "                \"Date\", \"Banana\", \"Orange\", \"Tomato\", \"Durian\"};\n",
    "\n",
    "String colors[] = {\"Aquamarine\", \"Mauve\", \"Snowflake\", \"Salmon\", \"Khaki\", \n",
    "                \"Black\", \"Darkslategray\", \"Royalblue\", \"White\", \"Rainbow\"};\n",
    "\n",
    "ClientPolicy clientPolicy = new ClientPolicy();\n",
    "for (int keyNum = 0; keyNum < numRecords; keyNum++) {\n",
    "\n",
    "    ArrayList<String> listStr = new ArrayList<String>();\n",
    "    listStr.add(names[keyNum]);\n",
    "    listStr.add(fruits[keyNum]);\n",
    "    listStr.add(colors[keyNum]);\n",
    "\n",
    "    ArrayList<Integer> listInt = new ArrayList<Integer>();\n",
    "    listInt.add(keyNum);\n",
    "    listInt.add(numRecords-keyNum);\n",
    "    listInt.add(1+keyNum);\n",
    "    listInt.add(2*keyNum);\n",
    "    listInt.add(keyNum*keyNum);\n",
    "\n",
    "    Key key = new Key(listNamespace, listSet, keyNum);\n",
    "    Bin bin1 = new Bin(listStrBin, listStr);\n",
    "    Bin bin2 = new Bin(listIntBin, listInt);\n",
    "    client.put(clientPolicy.writePolicyDefault, key, bin1, bin2);\n",
    "    \n",
    "    System.out.println(\"Key: \" + keyNum + \", listStr: \" + listStr + \", listInt: \" + listInt );\n",
    "}"
   ]
  },
  {
   "cell_type": "markdown",
   "metadata": {},
   "source": [
    "## READING Lists and List Metrics From the Server\n",
    "\n",
    "Now that the lists are in Aerospike, the client can return full or partial lists.\n",
    "1. Pull each record from Aerospike.\n",
    "   * For string lists:\n",
    "      * Pull the last element from the list.\n",
    "      * Pull the highest rank item.\n",
    "   * For the integer lists:\n",
    "      * Pull numbers between 4 and 20.\n",
    "      * Pull the 2nd and 3rd ranked items.\n",
    "4. Print the data.\n",
    "\n",
    "Note that none of the records were modified by these ops."
   ]
  },
  {
   "cell_type": "code",
   "execution_count": 5,
   "metadata": {},
   "outputs": [
    {
     "name": "stdout",
     "output_type": "stream",
     "text": [
      "Full record: (gen:27),(exp:350713513),(bins:(liststrbin:[Annette, Pineapple, Aquamarine]),(listintbin:[0, 10, 1, 0, 0]))\n",
      "The last string: Aquamarine\n",
      "The highest rank string: Pineapple\n",
      "The integers between 4 and 20: [10]\n",
      "The 2nd and 3rd ranked integers: [0, 0]\n",
      "\n",
      "Full record: (gen:27),(exp:350713513),(bins:(liststrbin:[Bharat, Nectarine, Mauve]),(listintbin:[1, 9, 2, 2, 1]))\n",
      "The last string: Mauve\n",
      "The highest rank string: Nectarine\n",
      "The integers between 4 and 20: [9]\n",
      "The 2nd and 3rd ranked integers: [2, 1]\n",
      "\n",
      "Full record: (gen:27),(exp:350713513),(bins:(liststrbin:[Chenguang, Avocado, Snowflake]),(listintbin:[2, 8, 3, 4, 4]))\n",
      "The last string: Snowflake\n",
      "The highest rank string: Snowflake\n",
      "The integers between 4 and 20: [8, 4, 4]\n",
      "The 2nd and 3rd ranked integers: [4, 3]\n",
      "\n",
      "Full record: (gen:27),(exp:350713513),(bins:(liststrbin:[Darrell, Pear, Salmon]),(listintbin:[3, 7, 4, 6, 9]))\n",
      "The last string: Salmon\n",
      "The highest rank string: Salmon\n",
      "The integers between 4 and 20: [7, 4, 6, 9]\n",
      "The 2nd and 3rd ranked integers: [6, 4]\n",
      "\n",
      "Full record: (gen:27),(exp:350713513),(bins:(liststrbin:[Eva, Mangosteen, Khaki]),(listintbin:[4, 6, 5, 8, 16]))\n",
      "The last string: Khaki\n",
      "The highest rank string: Mangosteen\n",
      "The integers between 4 and 20: [4, 6, 5, 8, 16]\n",
      "The 2nd and 3rd ranked integers: [6, 5]\n",
      "\n",
      "Full record: (gen:27),(exp:350713513),(bins:(liststrbin:[Francois, Date, Black]),(listintbin:[5, 5, 6, 10, 25]))\n",
      "The last string: Black\n",
      "The highest rank string: Francois\n",
      "The integers between 4 and 20: [5, 5, 6, 10]\n",
      "The 2nd and 3rd ranked integers: [6, 5]\n",
      "\n",
      "Full record: (gen:27),(exp:350713513),(bins:(liststrbin:[Geri, Banana, Darkslategray]),(listintbin:[6, 4, 7, 12, 36]))\n",
      "The last string: Darkslategray\n",
      "The highest rank string: Geri\n",
      "The integers between 4 and 20: [6, 4, 7, 12]\n",
      "The 2nd and 3rd ranked integers: [7, 6]\n",
      "\n",
      "Full record: (gen:27),(exp:350713513),(bins:(liststrbin:[Helen, Orange, Royalblue]),(listintbin:[7, 3, 8, 14, 49]))\n",
      "The last string: Royalblue\n",
      "The highest rank string: Royalblue\n",
      "The integers between 4 and 20: [7, 8, 14]\n",
      "The 2nd and 3rd ranked integers: [8, 7]\n",
      "\n",
      "Full record: (gen:27),(exp:350713513),(bins:(liststrbin:[Ian, Tomato, White]),(listintbin:[8, 2, 9, 16, 64]))\n",
      "The last string: White\n",
      "The highest rank string: White\n",
      "The integers between 4 and 20: [8, 9, 16]\n",
      "The 2nd and 3rd ranked integers: [9, 8]\n",
      "\n",
      "Full record: (gen:27),(exp:350713513),(bins:(liststrbin:[Javier, Durian, Rainbow]),(listintbin:[9, 1, 10, 18, 81]))\n",
      "The last string: Rainbow\n",
      "The highest rank string: Rainbow\n",
      "The integers between 4 and 20: [9, 10, 18]\n",
      "The 2nd and 3rd ranked integers: [10, 9]\n",
      "\n"
     ]
    }
   ],
   "source": [
    "import com.aerospike.client.AerospikeClient;\n",
    "import com.aerospike.client.policy.WritePolicy;\n",
    "import com.aerospike.client.policy.ClientPolicy;\n",
    "import com.aerospike.client.Bin;\n",
    "import com.aerospike.client.Key;\n",
    "import com.aerospike.client.Operation;\n",
    "import com.aerospike.client.Record;\n",
    "import com.aerospike.client.Value;\n",
    "import com.aerospike.client.cdt.CTX;\n",
    "import com.aerospike.client.cdt.ListOperation;\n",
    "\n",
    "int last = -1;\n",
    "int highestRank = 2;\n",
    "int lowerBound = 4;\n",
    "int upperBound = 21;\n",
    "int secondRank = 1;  // Rank is 0th based, so 1 is the 2nd rank item.\n",
    "int rangeRankSize = 2;\n",
    "int returnTheValues = 7;\n",
    "\n",
    "for (int keyNum = 0; keyNum < numRecords; keyNum++) {\n",
    "\n",
    "    Key key = new Key(listNamespace, listSet, keyNum);\n",
    "    Record record = client.get(null, key);\n",
    "    Record lastString = client.operate(client.writePolicyDefault, key, \n",
    "        ListOperation.get(listStrBin, last)\n",
    "        );\n",
    "    Record highestRankString = client.operate(client.writePolicyDefault, key, \n",
    "        ListOperation.getByRank(listStrBin, highestRank, returnTheValues)\n",
    "        );\n",
    "    Record between4And20 = client.operate(client.writePolicyDefault, key, \n",
    "        ListOperation.getByValueRange(listIntBin, Value.get(lowerBound), Value.get(upperBound), returnTheValues)\n",
    "        );\n",
    "    Record rank1And2 = client.operate(client.writePolicyDefault, key, \n",
    "        ListOperation.getByRankRange(listIntBin, secondRank, rangeRankSize, returnTheValues)\n",
    "        );\n",
    "        \n",
    "    System.out.println(\"Full record: \" + record);\n",
    "    System.out.println(\"The last string: \" + lastString.getValue(listStrBin));\n",
    "    System.out.println(\"The highest rank string: \" + highestRankString.getValue(listStrBin));\n",
    "    System.out.println(\"The integers between 4 and 20: \" + between4And20.getValue(listIntBin));\n",
    "    System.out.println(\"The 2nd and 3rd ranked integers: \" + rank1And2.getValue(listIntBin));    \n",
    "    System.out.println();\n",
    "}"
   ]
  },
  {
   "cell_type": "markdown",
   "metadata": {},
   "source": [
    "## UPDATE Lists on the Server \n",
    "\n",
    "Aerospike's [list operations](https://www.aerospike.com/apidocs/java/com/aerospike/client/cdt/ListOperation.html) modify data in the Aerospike database. Here are some examples:\n",
    "\n",
    "1. Print the record.\n",
    "2. Modify the string list:\n",
    "   * Insert a Fish string into the second-from-last position. \n",
    "   * Remove the Name. \n",
    "3. Modify the integer list:\n",
    "   * Append a power of 5 to the end the list. \n",
    "   * Increment the 4th integer in each list by 11.\n",
    "4. Print the final record."
   ]
  },
  {
   "cell_type": "code",
   "execution_count": 6,
   "metadata": {
    "scrolled": true
   },
   "outputs": [
    {
     "name": "stdout",
     "output_type": "stream",
     "text": [
      "Key:0 Before –  listStr: [Annette, Pineapple, Aquamarine], listInt: [0, 10, 1, 0, 0]\n",
      "      After  –  listStr: [Pineapple, Koi, Aquamarine], listInt: [0, 10, 1, 11, 0, 0]\n",
      "Key:1 Before –  listStr: [Bharat, Nectarine, Mauve], listInt: [1, 9, 2, 2, 1]\n",
      "      After  –  listStr: [Nectarine, Tuna, Mauve], listInt: [1, 9, 2, 13, 1, 11]\n",
      "Key:2 Before –  listStr: [Chenguang, Avocado, Snowflake], listInt: [2, 8, 3, 4, 4]\n",
      "      After  –  listStr: [Avocado, Stingray, Snowflake], listInt: [2, 8, 3, 15, 4, 22]\n",
      "Key:3 Before –  listStr: [Darrell, Pear, Salmon], listInt: [3, 7, 4, 6, 9]\n",
      "      After  –  listStr: [Pear, Arowana, Salmon], listInt: [3, 7, 4, 17, 9, 33]\n",
      "Key:4 Before –  listStr: [Eva, Mangosteen, Khaki], listInt: [4, 6, 5, 8, 16]\n",
      "      After  –  listStr: [Mangosteen, Mackerel, Khaki], listInt: [4, 6, 5, 19, 16, 44]\n",
      "Key:5 Before –  listStr: [Francois, Date, Black], listInt: [5, 5, 6, 10, 25]\n",
      "      After  –  listStr: [Date, Needlefish, Black], listInt: [5, 5, 6, 21, 25, 55]\n",
      "Key:6 Before –  listStr: [Geri, Banana, Darkslategray], listInt: [6, 4, 7, 12, 36]\n",
      "      After  –  listStr: [Banana, Sardine, Darkslategray], listInt: [6, 4, 7, 23, 36, 66]\n",
      "Key:7 Before –  listStr: [Helen, Orange, Royalblue], listInt: [7, 3, 8, 14, 49]\n",
      "      After  –  listStr: [Orange, Angelfish, Royalblue], listInt: [7, 3, 8, 25, 49, 77]\n",
      "Key:8 Before –  listStr: [Ian, Tomato, White], listInt: [8, 2, 9, 16, 64]\n",
      "      After  –  listStr: [Tomato, Cod, White], listInt: [8, 2, 9, 27, 64, 88]\n",
      "Key:9 Before –  listStr: [Javier, Durian, Rainbow], listInt: [9, 1, 10, 18, 81]\n",
      "      After  –  listStr: [Durian, Mako, Rainbow], listInt: [9, 1, 10, 29, 81, 99]\n"
     ]
    }
   ],
   "source": [
    "import com.aerospike.client.AerospikeClient;\n",
    "import com.aerospike.client.policy.WritePolicy;\n",
    "import com.aerospike.client.policy.ClientPolicy;\n",
    "import com.aerospike.client.Bin;\n",
    "import com.aerospike.client.Key;\n",
    "import com.aerospike.client.Operation;\n",
    "import com.aerospike.client.Record;\n",
    "import com.aerospike.client.Value;\n",
    "import com.aerospike.client.cdt.CTX;\n",
    "import com.aerospike.client.cdt.ListOperation;\n",
    "\n",
    "String Fishes[] = {\"Koi\", \"Tuna\", \"Stingray\", \"Arowana\", \"Mackerel\",\n",
    "                \"Needlefish\", \"Sardine\", \"Angelfish\", \"Cod\", \"Mako\"};\n",
    "int fishIndex = -1;\n",
    "int nameIndex = 0;\n",
    "int newMult = 5;\n",
    "int incNum = 11;\n",
    "int incIndex = 3;\n",
    "\n",
    "for (int keyNum = 0; keyNum < numRecords; keyNum++) {\n",
    "\n",
    "    Key key = new Key(listNamespace, listSet, keyNum);\n",
    "    Record origRecord = client.get(null, key);\n",
    "    System.out.println(\"Key:\" + keyNum + \" Before – \" + \" listStr: \" + origRecord.getValue(listStrBin) + \", listInt: \" + origRecord.getValue(listIntBin) );\n",
    "    origRecord = client.operate(client.writePolicyDefault, key, \n",
    "        ListOperation.insert(listStrBin, fishIndex, Value.get(Fishes[keyNum])),\n",
    "        ListOperation.remove(listStrBin, nameIndex),\n",
    "        ListOperation.append(listIntBin, Value.get(incNum*keyNum)),\n",
    "        ListOperation.increment(listIntBin, incIndex, Value.get(incNum))\n",
    "        );\n",
    "    Record finalRecord = client.get(null, key);\n",
    "    System.out.println(\"      After  – \" + \" listStr: \" + finalRecord.getValue(listStrBin) + \", listInt: \" + finalRecord.getValue(listIntBin) );\n",
    "}"
   ]
  },
  {
   "cell_type": "markdown",
   "metadata": {},
   "source": [
    "## Sorting the Lists\n",
    "\n",
    "Aerospike also sorts and rermoves duplicates from lists.\n",
    "1. Print both lists.\n",
    "2. Sort both lists and remove the duplicate integers.\n",
    "3. Print the sorted lists."
   ]
  },
  {
   "cell_type": "code",
   "execution_count": 8,
   "metadata": {},
   "outputs": [
    {
     "name": "stdout",
     "output_type": "stream",
     "text": [
      "Key:0 Unsorted –  listStr: [Aquamarine, Koi, Pineapple], listInt: [0, 1, 10, 11]\n",
      "        Sorted –  listStr: [Aquamarine, Koi, Pineapple], listInt: [0, 1, 10, 11]\n",
      "Key:1 Unsorted –  listStr: [Mauve, Nectarine, Tuna], listInt: [1, 2, 9, 11, 13]\n",
      "        Sorted –  listStr: [Mauve, Nectarine, Tuna], listInt: [1, 2, 9, 11, 13]\n",
      "Key:2 Unsorted –  listStr: [Avocado, Snowflake, Stingray], listInt: [2, 3, 4, 8, 15, 22]\n",
      "        Sorted –  listStr: [Avocado, Snowflake, Stingray], listInt: [2, 3, 4, 8, 15, 22]\n",
      "Key:3 Unsorted –  listStr: [Arowana, Pear, Salmon], listInt: [3, 4, 7, 9, 17, 33]\n",
      "        Sorted –  listStr: [Arowana, Pear, Salmon], listInt: [3, 4, 7, 9, 17, 33]\n",
      "Key:4 Unsorted –  listStr: [Khaki, Mackerel, Mangosteen], listInt: [4, 5, 6, 16, 19, 44]\n",
      "        Sorted –  listStr: [Khaki, Mackerel, Mangosteen], listInt: [4, 5, 6, 16, 19, 44]\n",
      "Key:5 Unsorted –  listStr: [Black, Date, Needlefish], listInt: [5, 6, 21, 25, 55]\n",
      "        Sorted –  listStr: [Black, Date, Needlefish], listInt: [5, 6, 21, 25, 55]\n",
      "Key:6 Unsorted –  listStr: [Banana, Darkslategray, Sardine], listInt: [4, 6, 7, 23, 36, 66]\n",
      "        Sorted –  listStr: [Banana, Darkslategray, Sardine], listInt: [4, 6, 7, 23, 36, 66]\n",
      "Key:7 Unsorted –  listStr: [Angelfish, Orange, Royalblue], listInt: [3, 7, 8, 25, 49, 77]\n",
      "        Sorted –  listStr: [Angelfish, Orange, Royalblue], listInt: [3, 7, 8, 25, 49, 77]\n",
      "Key:8 Unsorted –  listStr: [Cod, Tomato, White], listInt: [2, 8, 9, 27, 64, 88]\n",
      "        Sorted –  listStr: [Cod, Tomato, White], listInt: [2, 8, 9, 27, 64, 88]\n",
      "Key:9 Unsorted –  listStr: [Durian, Mako, Rainbow], listInt: [1, 9, 10, 29, 81, 99]\n",
      "        Sorted –  listStr: [Durian, Mako, Rainbow], listInt: [1, 9, 10, 29, 81, 99]\n"
     ]
    }
   ],
   "source": [
    "import com.aerospike.client.AerospikeClient;\n",
    "import com.aerospike.client.policy.WritePolicy;\n",
    "import com.aerospike.client.policy.ClientPolicy;\n",
    "import com.aerospike.client.Bin;\n",
    "import com.aerospike.client.Key;\n",
    "import com.aerospike.client.Operation;\n",
    "import com.aerospike.client.Record;\n",
    "import com.aerospike.client.Value;\n",
    "import com.aerospike.client.cdt.CTX;\n",
    "import com.aerospike.client.cdt.ListOperation;\n",
    "\n",
    "int dropDuplicates = 2;\n",
    "\n",
    "for (int keyNum = 0; keyNum < numRecords; keyNum++) {\n",
    "\n",
    "    Key key = new Key(listNamespace, listSet, keyNum);\n",
    "    Record origRecord = client.get(null, key);\n",
    "    System.out.println(\"Key:\" + keyNum + \" Unsorted – \" + \" listStr: \" + origRecord.getValue(listStrBin) + \", listInt: \" + origRecord.getValue(listIntBin) );\n",
    "    origRecord = client.operate(client.writePolicyDefault, key, \n",
    "        ListOperation.sort(listStrBin, dropDuplicates),\n",
    "        ListOperation.sort(listIntBin, dropDuplicates)\n",
    "        );\n",
    "    Record finalRecord = client.get(null, key);\n",
    "    System.out.println(\"        Sorted – \" + \" listStr: \" + finalRecord.getValue(listStrBin) + \", listInt: \" + finalRecord.getValue(listIntBin) );\n",
    "}"
   ]
  },
  {
   "cell_type": "markdown",
   "metadata": {},
   "source": [
    "## DELETING the Records and Closing Server Connection\n",
    "\n",
    "1. Use the **asinfo** administration tool to dump the set containing our list data.\n",
    "2. Close the client's connection to the Aerospike cluster."
   ]
  },
  {
   "cell_type": "code",
   "execution_count": null,
   "metadata": {},
   "outputs": [],
   "source": [
    "%sh asinfo -v \"truncate:namespace=test;set=listset1;\"\n",
    "client.close();\n",
    "System.out.println(\"Index dropped and server connection closed.\");"
   ]
  },
  {
   "cell_type": "markdown",
   "metadata": {},
   "source": [
    "## Aerospike Does Lists\n",
    "\n",
    "Aerospike database and its Java Client are up to the task of working with your lists."
   ]
  },
  {
   "cell_type": "markdown",
   "metadata": {},
   "source": [
    "## What's Next?\n",
    "\n",
    "Want to learn more?\n",
    "\n",
    "\n",
    "\n"
   ]
  },
  {
   "cell_type": "markdown",
   "metadata": {},
   "source": [
    "### Next Steps\n",
    "\n",
    "Have questions? Don't hesitate to reach out if you have additional questions about working with lists at https://discuss.aerospike.com/.\n",
    "\n",
    "Want to check out other Java notebooks?\n",
    "1. [Hello, World](hello_world.ipynb)\n",
    "2. [Aerospike Query and UDF](query_udf.ipynb)\n",
    "3. [Simple Put Get Example](SimplePutGetExample.ipynb)\n",
    "4. [Working with Twitter Data](tweetaspike.ipynb)"
   ]
  },
  {
   "cell_type": "markdown",
   "metadata": {},
   "source": [
    "### Additional Resources\n",
    "\n",
    "Here are some links to learn more about this demo:\n",
    "* [The Aerospike Java Client](https://github.com/aerospike/aerospike-client-java) \n",
    "* [Aerospike's List Operations](https://www.aerospike.com/apidocs/java/com/aerospike/client/cdt/ListOperation.html)\n",
    "* [Aerospike Database Architecture](https://www.aerospike.com/docs/architecture/index.html)"
   ]
  }
 ],
 "metadata": {
  "kernelspec": {
   "display_name": "Java",
   "language": "java",
   "name": "java"
  },
  "language_info": {
   "codemirror_mode": "java",
   "file_extension": ".jshell",
   "mimetype": "text/x-java-source",
   "name": "Java",
   "pygments_lexer": "java",
   "version": "11.0.8+10-LTS"
  }
 },
 "nbformat": 4,
 "nbformat_minor": 4
}
