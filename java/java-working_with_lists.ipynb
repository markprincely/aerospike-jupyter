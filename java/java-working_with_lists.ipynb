{
 "cells": [
  {
   "cell_type": "markdown",
   "metadata": {},
   "source": [
    "# Aerospike Java Client – Reading and Updating Lists\n",
    "\n",
    "This notebook demonstrates Java Aerospike CRUD operations (Create, Read, Update, Delete) for lists of data, focusing on server-side **read** and **update** operations, including **sort**. \n",
    "\n",
    "This [Jupyter Notebook](https://jupyter-notebook.readthedocs.io/en/stable/examples/Notebook/examples_index.html) requires the Aerospike database running locally with Java kernel and Aerospike Java Client. To create a Docker container that satisfies the requirements and holds a copy of these notebooks, visit the [Aerospike Notebooks Repo](https://github.com/aerospike-examples/interactive-notebooks)."
   ]
  },
  {
   "cell_type": "markdown",
   "metadata": {},
   "source": [
    "## Notebook Setup \n",
    "\n",
    "Run these first to initialize Jupyter, download the Java Client, and make sure the Aerospike Database is running."
   ]
  },
  {
   "cell_type": "markdown",
   "metadata": {},
   "source": [
    "### Import Jupyter Java Integration \n",
    "\n",
    "Make it easier to work with Java in Jupyter."
   ]
  },
  {
   "cell_type": "code",
   "execution_count": null,
   "metadata": {},
   "outputs": [],
   "source": [
    "import io.github.spencerpark.ijava.IJava;\n",
    "import io.github.spencerpark.jupyter.kernel.magic.common.Shell;\n",
    "\n",
    "IJava.getKernelInstance().getMagics().registerMagics(Shell.class);"
   ]
  },
  {
   "cell_type": "markdown",
   "metadata": {},
   "source": [
    "### Start Aerospike\n",
    "\n",
    "Ensure Aerospike database is running locally."
   ]
  },
  {
   "cell_type": "code",
   "execution_count": null,
   "metadata": {},
   "outputs": [],
   "source": [
    "%sh asd"
   ]
  },
  {
   "cell_type": "markdown",
   "metadata": {},
   "source": [
    "### Download the Aerospike Java Client\n",
    "\n",
    "Ask Maven to download and install the project object model (POM) of the Aerospike Java Client."
   ]
  },
  {
   "cell_type": "code",
   "execution_count": null,
   "metadata": {},
   "outputs": [],
   "source": [
    "%%loadFromPOM\n",
    "<dependencies>\n",
    "  <dependency>\n",
    "    <groupId>com.aerospike</groupId>\n",
    "    <artifactId>aerospike-client</artifactId>\n",
    "    <version>5.0.0</version>\n",
    "  </dependency>\n",
    "</dependencies>"
   ]
  },
  {
   "cell_type": "markdown",
   "metadata": {},
   "source": [
    "### Start the Aerospike Java Client and Connect\n",
    "\n",
    "Create an instance of the Aerospike Java Client, and connect to the demo cluster.\n",
    "\n",
    "The default cluster location for the Docker container is *localhost* port *3000*. If your cluster is not running on your local machine, modify *localhost* and *3000* to the values for your Aerospike cluster."
   ]
  },
  {
   "cell_type": "code",
   "execution_count": null,
   "metadata": {},
   "outputs": [],
   "source": [
    "import com.aerospike.client.AerospikeClient;\n",
    "\n",
    "AerospikeClient client = new AerospikeClient(\"localhost\", 3000);\n",
    "System.out.println(\"Initialized the client and connected to the cluster.\");"
   ]
  },
  {
   "cell_type": "markdown",
   "metadata": {},
   "source": [
    "## CREATE Lists in Aerospike"
   ]
  },
  {
   "cell_type": "markdown",
   "metadata": {},
   "source": [
    "### Create and Print List Data\n",
    "\n",
    "Create and print 3 String lists and Integer Lists. "
   ]
  },
  {
   "cell_type": "code",
   "execution_count": null,
   "metadata": {},
   "outputs": [],
   "source": [
    "import java.util.ArrayList;\n",
    "import java.util.Arrays;\n",
    "import java.util.HashMap;\n",
    "import java.util.List;\n",
    "import java.util.Map;\n",
    "\n",
    "String names[] = {\"Annette\", \"Bharat\", \"Chenguang\", \"Darrell\", \"Eva\", \n",
    "                \"Francois\", \"Geri\", \"Helen\", \"Ian\", \"Javier\"};\n",
    "\n",
    "String fruits[] = {\"Pineapple\", \"Nectarine\", \"Avocado\", \"Pear\", \"Mangosteen\", \n",
    "                \"Date\", \"Banana\", \"Orange\", \"Tomato\", \"Durian\"};\n",
    "\n",
    "String colors[] = {\"Aquamarine\", \"Mauve\", \"Snowflake\", \"Salmon\", \"Khaki\", \n",
    "                \"Black\", \"Darkslategray\", \"Royalblue\", \"White\", \"Rainbow\"};\n",
    "\n",
    "String trees[] = {\"Redwood\", \"Cypress\", \"Larch\", \"Maple\", \"Pine\", \n",
    "                \"Magnolia\", \"Willow\", \"Beech\", \"Birch\", \"Sycamore\"};\n",
    "\n",
    "\n",
    "ArrayList<String> listStr0 = new ArrayList<String>();\n",
    "listStr0.add(names[0]);\n",
    "listStr0.add(fruits[0]);\n",
    "listStr0.add(colors[0]);\n",
    "listStr0.add(trees[0]);\n",
    "System.out.println(\"String List 0: \" + listStr0);\n",
    "\n",
    "ArrayList<String> listStr1 = new ArrayList<String>();\n",
    "listStr1.add(names[1]);\n",
    "listStr1.add(fruits[1]);\n",
    "listStr1.add(colors[1]);\n",
    "listStr1.add(trees[1]);\n",
    "System.out.println(\"String List 1: \" + listStr1);\n",
    "\n",
    "ArrayList<String> listStr2 = new ArrayList<String>();\n",
    "listStr2.add(names[2]);\n",
    "listStr2.add(fruits[2]);\n",
    "listStr2.add(colors[2]);\n",
    "listStr2.add(trees[2]);\n",
    "System.out.println(\"String List 2: \" + listStr2);\n",
    "\n",
    "\n",
    "ArrayList<Integer> listInt0 = new ArrayList<Integer>();\n",
    "listInt0.add(16);\n",
    "listInt0.add(1);\n",
    "listInt0.add(4);\n",
    "listInt0.add(2);\n",
    "listInt0.add(8);\n",
    "listInt0.add(0);\n",
    "System.out.println(\"Integer List 0: \" + listInt0);\n",
    "\n",
    "ArrayList<Integer> listInt1 = new ArrayList<Integer>();\n",
    "listInt1.add(81);\n",
    "listInt1.add(3);\n",
    "listInt1.add(243);\n",
    "listInt1.add(27);\n",
    "listInt1.add(9);\n",
    "listInt1.add(1);\n",
    "System.out.println(\"Integer List 1: \" + listInt1);\n",
    "\n",
    "ArrayList<Integer> listInt2 = new ArrayList<Integer>();\n",
    "listInt2.add(2);\n",
    "listInt2.add(625);\n",
    "listInt2.add(5);\n",
    "listInt2.add(125);\n",
    "listInt2.add(3125);\n",
    "listInt2.add(25);\n",
    "System.out.println(\"Integer List 2: \" + listInt2);   "
   ]
  },
  {
   "cell_type": "markdown",
   "metadata": {},
   "source": [
    "### Insert the Lists into Aerospike and Print Them.\n",
    "\n",
    "Insert three structured records in Aerospike with **Keys** 0, 1, & 2, and **Bin Names** *liststrbin* and *listintbin*. \n",
    "1. Create a key.\n",
    "2. Create bins for the string and integer lists.\n",
    "3. Put the key and its bins in the database.\n",
    "4. Print the record.\n",
    "\n",
    "A **Namespace** is like a database in Aerospike. A **Set** is like a database table in Aerospike. A **Key** is a record in the Aerospike database. A **Bin** is a field in the database record. Go [here](https://www.aerospike.com/docs/architecture/data-model.html) for information on the [Aerospike Data Model](https://www.aerospike.com/docs/architecture/data-model.html)."
   ]
  },
  {
   "cell_type": "code",
   "execution_count": null,
   "metadata": {},
   "outputs": [],
   "source": [
    "import com.aerospike.client.policy.WritePolicy;\n",
    "import com.aerospike.client.policy.ClientPolicy;\n",
    "import com.aerospike.client.Bin;\n",
    "import com.aerospike.client.Key;\n",
    "\n",
    "String listStrBin = \"liststrbin\";\n",
    "String listIntBin = \"listintbin\";\n",
    "String listSet = \"listset1\";\n",
    "String listNamespace = \"test\";\n",
    "\n",
    "ClientPolicy clientPolicy = new ClientPolicy();\n",
    "\n",
    "Key key = new Key(listNamespace, listSet, 0);\n",
    "Bin bin1 = new Bin(listStrBin, listStr0);\n",
    "Bin bin2 = new Bin(listIntBin, listInt0);\n",
    "client.put(clientPolicy.writePolicyDefault, key, bin1, bin2);\n",
    "System.out.println(\"Key: \" + 0 + \", liststrbin: \" + listStr0 + \", listintbin: \" + listInt0 );\n",
    "\n",
    "Key key = new Key(listNamespace, listSet, 1);\n",
    "Bin bin1 = new Bin(listStrBin, listStr1);\n",
    "Bin bin2 = new Bin(listIntBin, listInt1);\n",
    "client.put(clientPolicy.writePolicyDefault, key, bin1, bin2);\n",
    "System.out.println(\"Key: \" + 1 + \", liststrbin: \" + listStr1 + \", listintbin: \" + listInt1 );\n",
    "\n",
    "Key key = new Key(listNamespace, listSet, 2);\n",
    "Bin bin1 = new Bin(listStrBin, listStr2);\n",
    "Bin bin2 = new Bin(listIntBin, listInt2);\n",
    "client.put(clientPolicy.writePolicyDefault, key, bin1, bin2);\n",
    "System.out.println(\"Key: \" + 2 + \", liststrbin: \" + listStr2 + \", listintbin: \" + listInt2 );"
   ]
  },
  {
   "cell_type": "markdown",
   "metadata": {},
   "source": [
    "## READING Lists and List Metadata From the Server\n",
    "\n",
    "Now that the lists are in Aerospike, the client can return full or partial lists and even metadata about individual **bin** contents."
   ]
  },
  {
   "cell_type": "markdown",
   "metadata": {},
   "source": [
    "### Pull and Print the Records\n",
    "\n",
    "The records can be retrieved using the **key**. We know the keys are 0, 1, & 2, in the **listset1** set, in the **test** namespace."
   ]
  },
  {
   "cell_type": "code",
   "execution_count": null,
   "metadata": {
    "scrolled": true
   },
   "outputs": [],
   "source": [
    "import com.aerospike.client.Bin;\n",
    "import com.aerospike.client.Key;\n",
    "import com.aerospike.client.Record;\n",
    "\n",
    "int numRecords = 3;\n",
    "\n",
    "for (int keyNum = 0; keyNum < numRecords; keyNum++) {\n",
    "    Key key = new Key(listNamespace, listSet, keyNum);\n",
    "    Record record = client.get(null, key);\n",
    "    System.out.println(record);\n",
    "}"
   ]
  },
  {
   "cell_type": "markdown",
   "metadata": {},
   "source": [
    "### Pull String List Metadata\n",
    "\n",
    "Pull each record from Aerospike. \n",
    "From each string list:\n",
    "1. Pull the last element from the list.\n",
    "2. Pull the highest rank item.\n",
    "3. Print them.\n",
    "\n",
    "None of the records are modified by these ops."
   ]
  },
  {
   "cell_type": "code",
   "execution_count": null,
   "metadata": {
    "scrolled": true
   },
   "outputs": [],
   "source": [
    "import com.aerospike.client.policy.WritePolicy;\n",
    "import com.aerospike.client.policy.ClientPolicy;\n",
    "import com.aerospike.client.Bin;\n",
    "import com.aerospike.client.Key;\n",
    "import com.aerospike.client.Operation;\n",
    "import com.aerospike.client.Record;\n",
    "import com.aerospike.client.Value;\n",
    "import com.aerospike.client.cdt.ListOperation;\n",
    "\n",
    "int last = -1;\n",
    "int highestRank = 3;\n",
    "int returnTheValues = 7;\n",
    "\n",
    "for (int keyNum = 0; keyNum < numRecords; keyNum++) {\n",
    "\n",
    "    Key key = new Key(listNamespace, listSet, keyNum);\n",
    "    Record record = client.get(null, key);\n",
    "    Record lastString = client.operate(client.writePolicyDefault, key, \n",
    "        ListOperation.get(listStrBin, last)\n",
    "        );\n",
    "    Record highestRankString = client.operate(client.writePolicyDefault, key, \n",
    "        ListOperation.getByRank(listStrBin, highestRank, returnTheValues)\n",
    "        );\n",
    "        \n",
    "    System.out.println(\"Record: \" + keyNum);\n",
    "    System.out.println(\"The string list: \" + record.getValue(listStrBin));\n",
    "    System.out.println(\"The last string: \" + lastString.getValue(listStrBin));\n",
    "    System.out.println(\"The highest rank string: \" + highestRankString.getValue(listStrBin));\n",
    "    System.out.println();\n",
    "}"
   ]
  },
  {
   "cell_type": "markdown",
   "metadata": {},
   "source": [
    "### Pull Integer List Metadata\n",
    "\n",
    "Pull each record from Aerospike. \n",
    "From each integer list:\n",
    "1. Pull numbers between 4 and 20.\n",
    "2. Pull the 2nd and 3rd ranked items.\n",
    "\n",
    "None of the records are modified by these ops."
   ]
  },
  {
   "cell_type": "code",
   "execution_count": null,
   "metadata": {},
   "outputs": [],
   "source": [
    "import com.aerospike.client.policy.WritePolicy;\n",
    "import com.aerospike.client.policy.ClientPolicy;\n",
    "import com.aerospike.client.Bin;\n",
    "import com.aerospike.client.Key;\n",
    "import com.aerospike.client.Operation;\n",
    "import com.aerospike.client.Record;\n",
    "import com.aerospike.client.Value;\n",
    "import com.aerospike.client.cdt.ListOperation;\n",
    "\n",
    "int lowerBound = 4;\n",
    "int upperBound = 21;\n",
    "int secondRank = 1;  // Rank is 0th based, so 1 is the 2nd rank item.\n",
    "int rangeRankSize = 2;\n",
    "int returnTheValues = 7;\n",
    "\n",
    "for (int keyNum = 0; keyNum < numRecords; keyNum++) {\n",
    "\n",
    "    Key key = new Key(listNamespace, listSet, keyNum);\n",
    "    Record record = client.get(null, key);\n",
    "    Record between4And20 = client.operate(client.writePolicyDefault, key, \n",
    "        ListOperation.getByValueRange(listIntBin, Value.get(lowerBound), Value.get(upperBound), returnTheValues)\n",
    "        );\n",
    "    Record rank1And2 = client.operate(client.writePolicyDefault, key, \n",
    "        ListOperation.getByRankRange(listIntBin, secondRank, rangeRankSize, returnTheValues)\n",
    "        );\n",
    "        \n",
    "    System.out.println(\"Record: \" + keyNum);\n",
    "    System.out.println(\"The integer list: \" + record.getValue(listIntBin));\n",
    "    System.out.println(\"The integers between 4 and 20: \" + between4And20.getValue(listIntBin));\n",
    "    System.out.println(\"The 2nd and 3rd ranked integers: \" + rank1And2.getValue(listIntBin));    \n",
    "    System.out.println();\n",
    "}"
   ]
  },
  {
   "cell_type": "markdown",
   "metadata": {},
   "source": [
    "## UPDATING Lists on the Aerospike Server\n",
    "\n",
    "Aerospike's [list operations](https://www.aerospike.com/apidocs/java/com/aerospike/client/cdt/ListOperation.html) modify data in the Aerospike database."
   ]
  },
  {
   "cell_type": "markdown",
   "metadata": {},
   "source": [
    "### Update the String List in Aerospike\n",
    "1. Print the String List.\n",
    "2. Insert a Fish into the second-from-last position.\n",
    "3. Remove the Name (the first item).\n",
    "4. Pull the String List from Aerospike and Print it."
   ]
  },
  {
   "cell_type": "code",
   "execution_count": null,
   "metadata": {},
   "outputs": [],
   "source": [
    "import com.aerospike.client.policy.WritePolicy;\n",
    "import com.aerospike.client.policy.ClientPolicy;\n",
    "import com.aerospike.client.Bin;\n",
    "import com.aerospike.client.Key;\n",
    "import com.aerospike.client.Operation;\n",
    "import com.aerospike.client.Record;\n",
    "import com.aerospike.client.Value;\n",
    "import com.aerospike.client.cdt.ListOperation;\n",
    "\n",
    "String Fishes[] = {\"Koi\", \"Tuna\", \"Stingray\", \"Arowana\", \"Mackerel\",\n",
    "                \"Needlefish\", \"Sardine\", \"Angelfish\", \"Cod\", \"Mako\"};\n",
    "\n",
    "int fishIndex = -1;\n",
    "int nameIndex = 0;\n",
    "\n",
    "for (int keyNum = 0; keyNum < numRecords; keyNum++) {\n",
    "\n",
    "    Key key = new Key(listNamespace, listSet, keyNum);\n",
    "    Record origRecord = client.get(null, key);\n",
    "    System.out.println(\"Key:\" + keyNum + \" Before – \" + \" listStr: \" + origRecord.getValue(listStrBin));\n",
    "    System.out.println(\"      Removing first item and adding: \" + Fishes[keyNum]);\n",
    "    origRecord = client.operate(client.writePolicyDefault, key, \n",
    "        ListOperation.insert(listStrBin, fishIndex, Value.get(Fishes[keyNum])),\n",
    "        ListOperation.remove(listStrBin, nameIndex)\n",
    "        );\n",
    "    Record finalRecord = client.get(null, key);\n",
    "    System.out.println(\"      After  – \" + \" listStr: \" + finalRecord.getValue(listStrBin));\n",
    "}"
   ]
  },
  {
   "cell_type": "markdown",
   "metadata": {},
   "source": [
    "### Update the Integer List in Aerospike\n",
    "1. Print the Integer List.\n",
    "2. Append a power of 5 to the end the list. \n",
    "3. Increment the 4th integer in each list by 11.\n",
    "4. Pull the Integer List from Aerospike and Print it."
   ]
  },
  {
   "cell_type": "code",
   "execution_count": null,
   "metadata": {},
   "outputs": [],
   "source": [
    "import com.aerospike.client.policy.WritePolicy;\n",
    "import com.aerospike.client.policy.ClientPolicy;\n",
    "import com.aerospike.client.Bin;\n",
    "import com.aerospike.client.Key;\n",
    "import com.aerospike.client.Operation;\n",
    "import com.aerospike.client.Record;\n",
    "import com.aerospike.client.Value;\n",
    "import com.aerospike.client.cdt.ListOperation;\n",
    "\n",
    "int newMult = 5;\n",
    "int incNum = 11;\n",
    "int incIndex = 3;\n",
    "\n",
    "for (int keyNum = 0; keyNum < numRecords; keyNum++) {\n",
    "\n",
    "    Key key = new Key(listNamespace, listSet, keyNum);\n",
    "    Record origRecord = client.get(null, key);\n",
    "    System.out.println(\"Key:\" + keyNum + \" Before – \" + \" listintbin: \" + origRecord.getValue(listIntBin) );\n",
    "    System.out.println(\"      Appending \" + newMult*keyNum + \" and incrementing the 4th item by \" + incNum + \".\");\n",
    "    origRecord = client.operate(client.writePolicyDefault, key, \n",
    "        ListOperation.append(listIntBin, Value.get(newMult*keyNum)),\n",
    "        ListOperation.increment(listIntBin, incIndex, Value.get(incNum))\n",
    "        );\n",
    "    Record finalRecord = client.get(null, key);\n",
    "    System.out.println(\"      After  – \" + \" listintbin: \" + finalRecord.getValue(listIntBin) );\n",
    "}"
   ]
  },
  {
   "cell_type": "markdown",
   "metadata": {},
   "source": [
    "## Sorting the Lists\n",
    "\n",
    "Aerospike also sorts and rermoves duplicates from lists.\n",
    "1. Print both lists.\n",
    "2. Sort both lists and remove the duplicate integers.\n",
    "3. Print the sorted lists."
   ]
  },
  {
   "cell_type": "code",
   "execution_count": null,
   "metadata": {},
   "outputs": [],
   "source": [
    "import com.aerospike.client.policy.WritePolicy;\n",
    "import com.aerospike.client.policy.ClientPolicy;\n",
    "import com.aerospike.client.Bin;\n",
    "import com.aerospike.client.Key;\n",
    "import com.aerospike.client.Operation;\n",
    "import com.aerospike.client.Record;\n",
    "import com.aerospike.client.Value;\n",
    "import com.aerospike.client.cdt.ListOperation;\n",
    "\n",
    "int dropDuplicates = 2;\n",
    "\n",
    "for (int keyNum = 0; keyNum < numRecords; keyNum++) {\n",
    "\n",
    "    Key key = new Key(listNamespace, listSet, keyNum);\n",
    "    Record origRecord = client.get(null, key);\n",
    "    System.out.println(\"Key:\" + keyNum + \" Unsorted – \" + \" listStr: \" + origRecord.getValue(listStrBin) + \", listInt: \" + origRecord.getValue(listIntBin) );\n",
    "    origRecord = client.operate(client.writePolicyDefault, key, \n",
    "        ListOperation.sort(listStrBin, dropDuplicates),\n",
    "        ListOperation.sort(listIntBin, dropDuplicates)\n",
    "        );\n",
    "    Record finalRecord = client.get(null, key);\n",
    "    System.out.println(\"        Sorted – \" + \" listStr: \" + finalRecord.getValue(listStrBin) + \", listInt: \" + finalRecord.getValue(listIntBin) );\n",
    "}"
   ]
  },
  {
   "cell_type": "markdown",
   "metadata": {},
   "source": [
    "## DELETING the Records and Closing Server Connection\n",
    "\n",
    "1. Use the **asinfo** administration tool to dump the set containing our list data.\n",
    "2. Close the client's connection to the Aerospike cluster."
   ]
  },
  {
   "cell_type": "code",
   "execution_count": null,
   "metadata": {},
   "outputs": [],
   "source": [
    "%sh asinfo -v \"truncate:namespace=test;set=listset1;\"\n",
    "client.close();\n",
    "System.out.println(\"Index dropped and server connection closed.\");"
   ]
  },
  {
   "cell_type": "markdown",
   "metadata": {},
   "source": [
    "## Aerospike Does Lists\n",
    "\n",
    "Aerospike database and its Java Client are up to the task of working with your lists."
   ]
  },
  {
   "cell_type": "markdown",
   "metadata": {},
   "source": [
    "## What's Next?\n",
    "\n",
    "Want to learn more?\n",
    "\n",
    "\n",
    "\n"
   ]
  },
  {
   "cell_type": "markdown",
   "metadata": {},
   "source": [
    "### Next Steps\n",
    "\n",
    "Have questions? Don't hesitate to reach out if you have additional questions about working with lists at https://discuss.aerospike.com/.\n",
    "\n",
    "Want to check out other Java notebooks?\n",
    "1. [Hello, World](hello_world.ipynb)\n",
    "2. [Aerospike Query and UDF](query_udf.ipynb)\n",
    "3. [Simple Put Get Example](SimplePutGetExample.ipynb)\n",
    "4. [Working with Twitter Data](tweetaspike.ipynb)\n",
    "\n",
    "Are you running this from Binder? [Download the Aerospike Notebook Repo](https://github.com/aerospike-examples/interactive-notebooks) and work with Aerospike Database and Jupyter locally using a Docker container."
   ]
  },
  {
   "cell_type": "markdown",
   "metadata": {},
   "source": [
    "### Additional Resources\n",
    "\n",
    "* What else can we do in Java? See the [Aerospike Java Client](https://github.com/aerospike/aerospike-client-java). \n",
    "* What other ways can we work with Lists? Take a look at [Aerospike's List Operations](https://www.aerospike.com/apidocs/java/com/aerospike/client/cdt/ListOperation.html).\n",
    "* What are Namespaces, Sets, and Bins? Check out the [Aerospike Data Model](https://www.aerospike.com/docs/architecture/data-model.html). \n",
    "* How robust is the Aerospike database? Browses the [Aerospike Database Architecture](https://www.aerospike.com/docs/architecture/index.html)."
   ]
  }
 ],
 "metadata": {
  "kernelspec": {
   "display_name": "Java",
   "language": "java",
   "name": "java"
  },
  "language_info": {
   "codemirror_mode": "java",
   "file_extension": ".jshell",
   "mimetype": "text/x-java-source",
   "name": "Java",
   "pygments_lexer": "java",
   "version": "11.0.8+10-LTS"
  }
 },
 "nbformat": 4,
 "nbformat_minor": 4
}
